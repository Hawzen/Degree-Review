{
 "cells": [
  {
   "cell_type": "code",
   "execution_count": 269,
   "metadata": {},
   "outputs": [],
   "source": [
    "import sqlite3\n",
    "import re\n",
    "\n",
    "import plotly.io as pio\n",
    "import plotly.express as px\n",
    "import pandas as pd\n",
    "\n",
    "pio.templates.default = \"plotly_dark\"\n",
    "\n",
    "pd.set_option(\"display.max_rows\", 500)\n",
    "pd.set_option(\"display.max_columns\", 50)\n",
    "pd.set_option(\"plotting.backend\", \"plotly\")"
   ]
  },
  {
   "cell_type": "code",
   "execution_count": 270,
   "metadata": {},
   "outputs": [],
   "source": [
    "grades = pd.read_json(\"grades.json\")\n",
    "grades.index = pd.MultiIndex.from_tuples([eval(t) for t in grades.index], names=[\"Level\", \"Subject\"])\n",
    "grades = grades.reset_index(0)\n",
    "\n",
    "# Add columns\n",
    "grades[\"الدرجات\"] = grades[\"النقاط\"] / grades[\"الساعات\"] / 5 * 100\n",
    "grades[\"قسم المقرر\"] = grades[\"رمز المقرر\"].apply(lambda x: re.sub(r\"[0-9]* \", \"\", x))\n",
    "symbol2category = {\n",
    "    \"ريد\": \"إنسانيات\",\n",
    "    \"احص\": \"رياضيات\",\n",
    "    \"كيم\": \"علوم\",\n",
    "    \"انجل\": \"إنسانيات\",\n",
    "    \"عرب\": \"إنسانيات\",\n",
    "    \"تقن\": \"علوم\",\n",
    "    \"نهج\": \"إنسانيات\",\n",
    "    \"ريض\": \"رياضيات\",\n",
    "    \"فجب\": \"إنسانيات\",\n",
    "    \"فيز\": \"علوم\",\n",
    "    \"عال\": \"علوم حاسب\",\n",
    "    \"سلم\": \"سلم\",\n",
    "}\n",
    "grades[\"صنف المقرر\"] = grades[\"قسم المقرر\"].apply(symbol2category.get)\n",
    "\n",
    "# Addtional variables\n",
    "ordering = {\"التقدير\": [\"أ+\", \"أ\", \"ب+\", \"ند\"]}"
   ]
  },
  {
   "cell_type": "code",
   "execution_count": 271,
   "metadata": {},
   "outputs": [],
   "source": [
    "db = sqlite3.connect(\"db.sqlite3\")\n",
    "\n",
    "commits = pd.read_sql_query(\"\"\"\n",
    "                    SELECT\n",
    "                    *\n",
    "                    FROM commits\n",
    "                \"\"\", db, parse_dates=[\"date\"])\n",
    "commits.columns = [\"Repository\", \"Date\", \"Raw\"]\n",
    "commits = commits.sort_values(\"Date\").reset_index(drop=True)\n",
    "commits[\"Commit\"] = 1"
   ]
  },
  {
   "cell_type": "code",
   "execution_count": 272,
   "metadata": {},
   "outputs": [
    {
     "data": {
      "application/vnd.plotly.v1+json": {
       "config": {
        "plotlyServerURL": "https://plot.ly"
       },
       "data": [
        {
         "alignmentgroup": "True",
         "boxpoints": "all",
         "fillcolor": "rgba(255,255,255,0)",
         "hoveron": "points",
         "hovertemplate": "Repository=%{y}<br>Date=%{x}<extra></extra>",
         "legendgroup": "Phonetics-Puzzle",
         "line": {
          "color": "rgba(255,255,255,0)"
         },
         "marker": {
          "color": "#636efa"
         },
         "name": "Phonetics-Puzzle",
         "offsetgroup": "Phonetics-Puzzle",
         "orientation": "v",
         "pointpos": 0,
         "showlegend": true,
         "type": "box",
         "x": [
          "2020-02-25T12:39:46+00:00",
          "2020-02-25T16:13:59+00:00",
          "2020-02-26T02:19:13+00:00",
          "2020-02-26T02:23:24+00:00",
          "2020-02-26T02:24:15+00:00",
          "2020-02-26T02:38:08+00:00",
          "2020-02-26T19:42:25+00:00",
          "2020-02-29T19:14:02+00:00",
          "2020-02-29T19:14:45+00:00",
          "2020-02-29T20:24:19+00:00",
          "2020-02-29T20:42:50+00:00",
          "2020-02-29T21:56:59+00:00",
          "2020-03-02T00:35:25+00:00",
          "2020-03-02T20:12:26+00:00",
          "2020-03-05T19:04:39+00:00",
          "2020-03-05T23:31:43+00:00",
          "2020-03-05T23:44:50+00:00",
          "2020-03-06T00:00:56+00:00",
          "2020-03-07T19:07:38+00:00",
          "2020-03-07T19:17:42+00:00",
          "2020-03-08T14:02:48+00:00",
          "2021-12-08T16:49:02+00:00"
         ],
         "x0": " ",
         "xaxis": "x",
         "y": [
          "Phonetics-Puzzle",
          "Phonetics-Puzzle",
          "Phonetics-Puzzle",
          "Phonetics-Puzzle",
          "Phonetics-Puzzle",
          "Phonetics-Puzzle",
          "Phonetics-Puzzle",
          "Phonetics-Puzzle",
          "Phonetics-Puzzle",
          "Phonetics-Puzzle",
          "Phonetics-Puzzle",
          "Phonetics-Puzzle",
          "Phonetics-Puzzle",
          "Phonetics-Puzzle",
          "Phonetics-Puzzle",
          "Phonetics-Puzzle",
          "Phonetics-Puzzle",
          "Phonetics-Puzzle",
          "Phonetics-Puzzle",
          "Phonetics-Puzzle",
          "Phonetics-Puzzle",
          "Phonetics-Puzzle"
         ],
         "y0": " ",
         "yaxis": "y"
        },
        {
         "alignmentgroup": "True",
         "boxpoints": "all",
         "fillcolor": "rgba(255,255,255,0)",
         "hoveron": "points",
         "hovertemplate": "Repository=%{y}<br>Date=%{x}<extra></extra>",
         "legendgroup": "Prayer-Time-displacment",
         "line": {
          "color": "rgba(255,255,255,0)"
         },
         "marker": {
          "color": "#EF553B"
         },
         "name": "Prayer-Time-displacment",
         "offsetgroup": "Prayer-Time-displacment",
         "orientation": "v",
         "pointpos": 0,
         "showlegend": true,
         "type": "box",
         "x": [
          "2020-02-28T20:06:13+00:00",
          "2020-02-28T20:07:16+00:00",
          "2020-02-28T20:15:27+00:00"
         ],
         "x0": " ",
         "xaxis": "x",
         "y": [
          "Prayer-Time-displacment",
          "Prayer-Time-displacment",
          "Prayer-Time-displacment"
         ],
         "y0": " ",
         "yaxis": "y"
        },
        {
         "alignmentgroup": "True",
         "boxpoints": "all",
         "fillcolor": "rgba(255,255,255,0)",
         "hoveron": "points",
         "hovertemplate": "Repository=%{y}<br>Date=%{x}<extra></extra>",
         "legendgroup": "Experiments",
         "line": {
          "color": "rgba(255,255,255,0)"
         },
         "marker": {
          "color": "#00cc96"
         },
         "name": "Experiments",
         "offsetgroup": "Experiments",
         "orientation": "v",
         "pointpos": 0,
         "showlegend": true,
         "type": "box",
         "x": [
          "2020-03-07T14:04:41+00:00",
          "2020-03-07T14:10:12+00:00",
          "2020-03-07T14:14:53+00:00",
          "2020-03-07T14:17:26+00:00",
          "2020-03-07T14:24:08+00:00",
          "2020-03-07T14:31:25+00:00",
          "2020-03-07T14:34:01+00:00",
          "2020-03-07T14:38:01+00:00",
          "2020-03-07T16:42:20+00:00",
          "2020-03-09T18:47:20+00:00",
          "2020-03-16T02:59:48+00:00",
          "2020-03-16T07:13:31+00:00",
          "2020-03-16T07:49:47+00:00",
          "2020-03-16T07:50:38+00:00",
          "2020-03-16T07:56:24+00:00",
          "2020-03-16T08:05:21+00:00",
          "2020-03-24T09:24:46+00:00",
          "2020-03-24T09:43:20+00:00",
          "2020-03-25T07:33:31+00:00",
          "2020-03-25T08:36:42+00:00",
          "2020-03-25T14:09:30+00:00",
          "2020-03-25T17:18:06+00:00",
          "2020-03-25T17:27:29+00:00",
          "2020-03-29T23:09:33+00:00",
          "2020-04-11T01:21:31+00:00",
          "2020-04-20T10:46:31+00:00",
          "2020-04-28T00:43:11+00:00",
          "2020-04-28T20:51:37+00:00",
          "2020-06-12T22:39:37+00:00",
          "2020-06-16T11:00:53+00:00",
          "2020-06-19T13:21:56+00:00",
          "2020-06-19T13:24:46+00:00",
          "2020-06-19T14:13:04+00:00",
          "2020-06-19T15:57:03+00:00",
          "2020-06-19T15:58:08+00:00",
          "2020-06-19T17:48:54+00:00",
          "2020-06-19T18:06:30+00:00",
          "2020-06-20T11:15:16+00:00",
          "2020-06-20T11:47:43+00:00",
          "2020-06-20T14:53:14+00:00",
          "2020-06-20T14:54:28+00:00",
          "2020-06-20T15:04:36+00:00",
          "2020-06-20T16:58:06+00:00",
          "2020-06-23T07:47:22+00:00",
          "2020-06-23T10:31:31+00:00",
          "2020-06-24T03:35:05+00:00",
          "2020-06-24T10:36:31+00:00",
          "2020-06-24T11:35:15+00:00",
          "2020-06-24T11:37:22+00:00",
          "2020-06-25T23:57:34+00:00",
          "2020-06-26T00:07:25+00:00",
          "2020-06-26T04:03:24+00:00",
          "2020-07-03T12:02:32+00:00",
          "2020-07-03T14:06:12+00:00",
          "2020-07-03T14:06:48+00:00",
          "2020-07-03T14:58:02+00:00",
          "2020-07-03T20:18:33+00:00",
          "2020-07-03T20:20:50+00:00",
          "2020-07-08T20:34:27+00:00",
          "2020-07-11T02:03:15+00:00",
          "2020-07-11T02:05:20+00:00",
          "2020-07-12T21:48:48+00:00",
          "2020-07-13T10:04:29+00:00",
          "2020-07-19T14:06:59+00:00",
          "2020-07-19T14:09:15+00:00",
          "2020-07-22T07:20:07+00:00",
          "2020-10-01T23:26:36+00:00",
          "2020-10-01T23:27:13+00:00",
          "2020-10-01T23:28:51+00:00",
          "2020-10-01T23:40:04+00:00",
          "2020-11-14T19:41:35+00:00",
          "2020-11-14T19:44:42+00:00",
          "2020-11-14T19:51:23+00:00",
          "2020-11-14T19:52:28+00:00",
          "2020-11-14T19:55:04+00:00",
          "2020-11-14T19:57:39+00:00",
          "2020-11-17T22:04:40+00:00",
          "2020-12-27T22:04:19+00:00",
          "2021-03-12T02:15:54+00:00",
          "2021-04-06T10:03:06+00:00",
          "2021-05-21T23:28:48+00:00",
          "2021-07-09T07:50:50+00:00",
          "2021-07-17T21:47:19+00:00",
          "2021-07-21T09:25:26+00:00",
          "2021-07-22T06:41:32+00:00",
          "2021-08-30T21:39:58+00:00",
          "2021-09-06T17:11:00+00:00",
          "2021-09-07T03:40:08+00:00",
          "2021-09-07T16:12:37+00:00",
          "2021-09-07T18:34:23+00:00",
          "2021-09-08T05:27:52+00:00",
          "2021-09-12T08:46:36+00:00",
          "2021-09-13T12:45:26+00:00",
          "2021-09-15T11:56:49+00:00",
          "2021-09-15T11:57:17+00:00",
          "2021-09-17T18:09:09+00:00",
          "2021-09-17T18:10:57+00:00",
          "2021-09-17T21:34:28+00:00",
          "2021-09-17T21:35:26+00:00",
          "2021-09-18T16:37:58+00:00",
          "2021-09-18T19:13:44+00:00",
          "2021-09-20T20:23:44+00:00",
          "2021-09-21T13:20:05+00:00",
          "2021-09-21T13:26:18+00:00",
          "2021-09-21T13:53:40+00:00",
          "2021-09-25T11:52:44+00:00",
          "2021-09-25T11:56:57+00:00",
          "2022-04-03T19:51:34+00:00",
          "2022-04-03T19:51:52+00:00",
          "2022-04-03T19:52:50+00:00",
          "2022-04-03T19:54:37+00:00",
          "2022-04-03T19:56:43+00:00",
          "2022-04-03T19:57:40+00:00",
          "2022-04-03T19:57:50+00:00"
         ],
         "x0": " ",
         "xaxis": "x",
         "y": [
          "Experiments",
          "Experiments",
          "Experiments",
          "Experiments",
          "Experiments",
          "Experiments",
          "Experiments",
          "Experiments",
          "Experiments",
          "Experiments",
          "Experiments",
          "Experiments",
          "Experiments",
          "Experiments",
          "Experiments",
          "Experiments",
          "Experiments",
          "Experiments",
          "Experiments",
          "Experiments",
          "Experiments",
          "Experiments",
          "Experiments",
          "Experiments",
          "Experiments",
          "Experiments",
          "Experiments",
          "Experiments",
          "Experiments",
          "Experiments",
          "Experiments",
          "Experiments",
          "Experiments",
          "Experiments",
          "Experiments",
          "Experiments",
          "Experiments",
          "Experiments",
          "Experiments",
          "Experiments",
          "Experiments",
          "Experiments",
          "Experiments",
          "Experiments",
          "Experiments",
          "Experiments",
          "Experiments",
          "Experiments",
          "Experiments",
          "Experiments",
          "Experiments",
          "Experiments",
          "Experiments",
          "Experiments",
          "Experiments",
          "Experiments",
          "Experiments",
          "Experiments",
          "Experiments",
          "Experiments",
          "Experiments",
          "Experiments",
          "Experiments",
          "Experiments",
          "Experiments",
          "Experiments",
          "Experiments",
          "Experiments",
          "Experiments",
          "Experiments",
          "Experiments",
          "Experiments",
          "Experiments",
          "Experiments",
          "Experiments",
          "Experiments",
          "Experiments",
          "Experiments",
          "Experiments",
          "Experiments",
          "Experiments",
          "Experiments",
          "Experiments",
          "Experiments",
          "Experiments",
          "Experiments",
          "Experiments",
          "Experiments",
          "Experiments",
          "Experiments",
          "Experiments",
          "Experiments",
          "Experiments",
          "Experiments",
          "Experiments",
          "Experiments",
          "Experiments",
          "Experiments",
          "Experiments",
          "Experiments",
          "Experiments",
          "Experiments",
          "Experiments",
          "Experiments",
          "Experiments",
          "Experiments",
          "Experiments",
          "Experiments",
          "Experiments",
          "Experiments",
          "Experiments",
          "Experiments",
          "Experiments",
          "Experiments"
         ],
         "y0": " ",
         "yaxis": "y"
        },
        {
         "alignmentgroup": "True",
         "boxpoints": "all",
         "fillcolor": "rgba(255,255,255,0)",
         "hoveron": "points",
         "hovertemplate": "Repository=%{y}<br>Date=%{x}<extra></extra>",
         "legendgroup": "Problems",
         "line": {
          "color": "rgba(255,255,255,0)"
         },
         "marker": {
          "color": "#ab63fa"
         },
         "name": "Problems",
         "offsetgroup": "Problems",
         "orientation": "v",
         "pointpos": 0,
         "showlegend": true,
         "type": "box",
         "x": [
          "2020-03-13T14:01:50+00:00",
          "2020-03-14T00:32:26+00:00",
          "2020-03-14T00:37:58+00:00",
          "2020-03-14T00:39:38+00:00",
          "2020-03-14T00:41:40+00:00",
          "2020-03-14T00:42:21+00:00",
          "2020-03-14T00:44:45+00:00",
          "2020-03-14T00:59:24+00:00",
          "2020-03-14T01:05:53+00:00",
          "2020-03-14T01:06:23+00:00",
          "2020-03-14T01:08:24+00:00",
          "2020-04-20T10:56:39+00:00",
          "2020-06-06T22:46:32+00:00",
          "2020-06-06T22:46:50+00:00",
          "2020-06-10T16:57:48+00:00",
          "2020-06-12T22:52:32+00:00",
          "2020-06-14T05:29:47+00:00",
          "2020-06-14T05:30:04+00:00",
          "2020-06-17T10:53:27+00:00",
          "2020-06-17T14:39:16+00:00",
          "2020-06-20T09:37:57+00:00",
          "2021-01-31T18:44:35+00:00",
          "2021-01-31T19:49:18+00:00",
          "2021-02-03T08:37:36+00:00",
          "2021-02-03T08:38:08+00:00",
          "2021-02-03T10:55:32+00:00",
          "2021-02-03T10:55:43+00:00",
          "2021-02-03T12:04:58+00:00",
          "2021-02-03T12:18:05+00:00",
          "2021-02-03T12:18:53+00:00",
          "2021-02-05T00:37:36+00:00",
          "2021-02-05T00:44:00+00:00",
          "2021-02-05T00:44:21+00:00",
          "2021-02-05T20:24:41+00:00",
          "2021-06-14T19:06:22+00:00",
          "2021-06-14T19:07:30+00:00",
          "2021-06-14T19:41:02+00:00"
         ],
         "x0": " ",
         "xaxis": "x",
         "y": [
          "Problems",
          "Problems",
          "Problems",
          "Problems",
          "Problems",
          "Problems",
          "Problems",
          "Problems",
          "Problems",
          "Problems",
          "Problems",
          "Problems",
          "Problems",
          "Problems",
          "Problems",
          "Problems",
          "Problems",
          "Problems",
          "Problems",
          "Problems",
          "Problems",
          "Problems",
          "Problems",
          "Problems",
          "Problems",
          "Problems",
          "Problems",
          "Problems",
          "Problems",
          "Problems",
          "Problems",
          "Problems",
          "Problems",
          "Problems",
          "Problems",
          "Problems",
          "Problems"
         ],
         "y0": " ",
         "yaxis": "y"
        },
        {
         "alignmentgroup": "True",
         "boxpoints": "all",
         "fillcolor": "rgba(255,255,255,0)",
         "hoveron": "points",
         "hovertemplate": "Repository=%{y}<br>Date=%{x}<extra></extra>",
         "legendgroup": "Self-study",
         "line": {
          "color": "rgba(255,255,255,0)"
         },
         "marker": {
          "color": "#FFA15A"
         },
         "name": "Self-study",
         "offsetgroup": "Self-study",
         "orientation": "v",
         "pointpos": 0,
         "showlegend": true,
         "type": "box",
         "x": [
          "2020-03-16T08:13:01+00:00",
          "2020-03-16T08:35:15+00:00",
          "2020-03-16T08:59:00+00:00",
          "2020-03-17T07:08:28+00:00",
          "2020-03-22T16:17:31+00:00",
          "2020-03-22T17:49:31+00:00",
          "2020-03-22T17:49:48+00:00",
          "2020-04-07T15:09:50+00:00",
          "2020-04-07T15:10:12+00:00",
          "2020-04-09T00:01:29+00:00",
          "2020-04-09T00:02:08+00:00",
          "2020-04-09T00:04:05+00:00",
          "2020-12-28T15:55:27+00:00",
          "2020-12-28T15:55:54+00:00",
          "2020-12-28T16:02:54+00:00",
          "2021-09-12T08:49:46+00:00",
          "2021-09-12T08:50:28+00:00",
          "2021-09-19T12:25:15+00:00",
          "2021-09-19T12:31:03+00:00",
          "2021-09-19T12:38:17+00:00",
          "2021-09-19T12:40:15+00:00",
          "2021-09-19T12:46:43+00:00",
          "2021-09-19T12:47:48+00:00",
          "2021-09-19T12:53:24+00:00",
          "2021-09-19T12:55:17+00:00",
          "2021-10-16T14:48:23+00:00",
          "2021-12-24T12:02:18+00:00",
          "2021-12-24T12:02:32+00:00",
          "2021-12-24T12:02:41+00:00",
          "2021-12-26T08:20:45+00:00",
          "2022-02-19T05:30:51+00:00",
          "2022-02-19T05:58:57+00:00",
          "2022-02-19T06:34:59+00:00",
          "2022-03-02T17:16:24+00:00",
          "2022-03-02T17:16:38+00:00",
          "2022-03-07T02:25:33+00:00",
          "2022-05-16T09:28:15+00:00"
         ],
         "x0": " ",
         "xaxis": "x",
         "y": [
          "Self-study",
          "Self-study",
          "Self-study",
          "Self-study",
          "Self-study",
          "Self-study",
          "Self-study",
          "Self-study",
          "Self-study",
          "Self-study",
          "Self-study",
          "Self-study",
          "Self-study",
          "Self-study",
          "Self-study",
          "Self-study",
          "Self-study",
          "Self-study",
          "Self-study",
          "Self-study",
          "Self-study",
          "Self-study",
          "Self-study",
          "Self-study",
          "Self-study",
          "Self-study",
          "Self-study",
          "Self-study",
          "Self-study",
          "Self-study",
          "Self-study",
          "Self-study",
          "Self-study",
          "Self-study",
          "Self-study",
          "Self-study",
          "Self-study"
         ],
         "y0": " ",
         "yaxis": "y"
        },
        {
         "alignmentgroup": "True",
         "boxpoints": "all",
         "fillcolor": "rgba(255,255,255,0)",
         "hoveron": "points",
         "hovertemplate": "Repository=%{y}<br>Date=%{x}<extra></extra>",
         "legendgroup": "Twitgraph",
         "line": {
          "color": "rgba(255,255,255,0)"
         },
         "marker": {
          "color": "#19d3f3"
         },
         "name": "Twitgraph",
         "offsetgroup": "Twitgraph",
         "orientation": "v",
         "pointpos": 0,
         "showlegend": true,
         "type": "box",
         "x": [
          "2020-04-11T01:12:35+00:00",
          "2020-04-11T01:24:07+00:00",
          "2020-04-17T20:42:11+00:00",
          "2020-04-17T20:48:11+00:00",
          "2020-04-17T23:46:03+00:00",
          "2020-04-17T23:47:27+00:00",
          "2020-04-17T23:59:04+00:00",
          "2020-04-18T00:03:32+00:00",
          "2020-04-18T02:34:04+00:00",
          "2020-04-18T02:34:14+00:00",
          "2020-04-18T02:35:55+00:00",
          "2020-04-19T22:17:09+00:00",
          "2020-04-19T23:50:14+00:00",
          "2020-04-20T23:55:39+00:00",
          "2020-04-22T00:29:07+00:00",
          "2020-04-23T00:13:33+00:00",
          "2020-04-23T12:06:31+00:00",
          "2020-04-24T04:34:25+00:00",
          "2020-04-25T06:55:32+00:00",
          "2020-04-25T06:55:46+00:00",
          "2020-05-05T04:46:57+00:00",
          "2020-05-05T07:57:30+00:00",
          "2020-05-25T05:41:11+00:00",
          "2020-05-31T05:59:40+00:00",
          "2020-06-05T21:57:56+00:00",
          "2020-06-05T22:00:16+00:00",
          "2020-06-05T22:05:16+00:00",
          "2020-06-05T22:22:31+00:00",
          "2020-06-05T22:32:58+00:00",
          "2020-06-05T22:35:21+00:00",
          "2020-06-05T22:36:05+00:00",
          "2020-06-05T22:39:09+00:00",
          "2020-06-05T22:40:12+00:00",
          "2020-06-06T06:42:25+00:00",
          "2020-06-06T07:01:10+00:00",
          "2020-06-06T07:14:28+00:00",
          "2020-06-06T07:15:48+00:00",
          "2020-06-06T07:20:16+00:00",
          "2020-06-06T07:29:06+00:00",
          "2020-06-06T10:08:33+00:00",
          "2020-06-06T12:33:38+00:00",
          "2020-06-06T13:00:05+00:00",
          "2020-06-06T13:06:15+00:00",
          "2020-06-07T18:09:59+00:00",
          "2020-06-08T18:03:11+00:00",
          "2020-06-08T18:17:40+00:00",
          "2020-06-08T18:52:36+00:00",
          "2020-06-10T18:10:02+00:00",
          "2020-06-10T18:11:48+00:00",
          "2020-06-10T18:13:57+00:00",
          "2020-06-10T18:27:28+00:00",
          "2020-06-10T18:28:01+00:00",
          "2022-01-19T05:31:13+00:00",
          "2022-01-19T05:31:45+00:00",
          "2022-01-19T06:02:43+00:00",
          "2022-01-19T06:02:58+00:00",
          "2022-01-19T06:37:20+00:00",
          "2022-01-20T06:27:56+00:00",
          "2022-01-20T06:28:04+00:00",
          "2022-01-20T06:28:09+00:00",
          "2022-01-20T13:45:28+00:00",
          "2022-01-20T13:48:09+00:00",
          "2022-01-20T15:23:16+00:00",
          "2022-01-20T15:23:34+00:00",
          "2022-01-21T10:59:14+00:00",
          "2022-01-21T10:59:18+00:00",
          "2022-01-21T16:13:27+00:00",
          "2022-01-21T16:41:45+00:00",
          "2022-01-21T16:44:48+00:00",
          "2022-01-21T17:16:42+00:00",
          "2022-01-21T17:16:46+00:00",
          "2022-01-21T17:21:51+00:00",
          "2022-01-22T05:43:16+00:00",
          "2022-01-22T05:43:50+00:00",
          "2022-01-22T06:21:58+00:00",
          "2022-01-22T06:29:16+00:00",
          "2022-01-22T07:07:41+00:00",
          "2022-01-22T07:19:51+00:00",
          "2022-01-22T09:28:05+00:00",
          "2022-01-22T09:28:18+00:00",
          "2022-01-24T15:24:10+00:00",
          "2022-01-24T15:30:44+00:00",
          "2022-01-24T15:32:24+00:00",
          "2022-01-24T15:58:00+00:00",
          "2022-01-24T16:03:46+00:00",
          "2022-01-24T16:09:23+00:00",
          "2022-01-24T17:54:41+00:00",
          "2022-01-25T05:49:13+00:00",
          "2022-01-25T06:10:19+00:00",
          "2022-01-25T06:15:45+00:00",
          "2022-01-25T17:13:04+00:00",
          "2022-01-25T17:13:21+00:00",
          "2022-01-25T17:13:42+00:00",
          "2022-01-25T17:46:51+00:00",
          "2022-01-26T18:56:44+00:00",
          "2022-01-26T18:56:50+00:00",
          "2022-01-26T19:04:27+00:00",
          "2022-01-26T19:06:06+00:00",
          "2022-01-26T19:33:14+00:00",
          "2022-01-26T19:33:27+00:00",
          "2022-01-26T19:36:55+00:00",
          "2022-01-26T19:37:06+00:00"
         ],
         "x0": " ",
         "xaxis": "x",
         "y": [
          "Twitgraph",
          "Twitgraph",
          "Twitgraph",
          "Twitgraph",
          "Twitgraph",
          "Twitgraph",
          "Twitgraph",
          "Twitgraph",
          "Twitgraph",
          "Twitgraph",
          "Twitgraph",
          "Twitgraph",
          "Twitgraph",
          "Twitgraph",
          "Twitgraph",
          "Twitgraph",
          "Twitgraph",
          "Twitgraph",
          "Twitgraph",
          "Twitgraph",
          "Twitgraph",
          "Twitgraph",
          "Twitgraph",
          "Twitgraph",
          "Twitgraph",
          "Twitgraph",
          "Twitgraph",
          "Twitgraph",
          "Twitgraph",
          "Twitgraph",
          "Twitgraph",
          "Twitgraph",
          "Twitgraph",
          "Twitgraph",
          "Twitgraph",
          "Twitgraph",
          "Twitgraph",
          "Twitgraph",
          "Twitgraph",
          "Twitgraph",
          "Twitgraph",
          "Twitgraph",
          "Twitgraph",
          "Twitgraph",
          "Twitgraph",
          "Twitgraph",
          "Twitgraph",
          "Twitgraph",
          "Twitgraph",
          "Twitgraph",
          "Twitgraph",
          "Twitgraph",
          "Twitgraph",
          "Twitgraph",
          "Twitgraph",
          "Twitgraph",
          "Twitgraph",
          "Twitgraph",
          "Twitgraph",
          "Twitgraph",
          "Twitgraph",
          "Twitgraph",
          "Twitgraph",
          "Twitgraph",
          "Twitgraph",
          "Twitgraph",
          "Twitgraph",
          "Twitgraph",
          "Twitgraph",
          "Twitgraph",
          "Twitgraph",
          "Twitgraph",
          "Twitgraph",
          "Twitgraph",
          "Twitgraph",
          "Twitgraph",
          "Twitgraph",
          "Twitgraph",
          "Twitgraph",
          "Twitgraph",
          "Twitgraph",
          "Twitgraph",
          "Twitgraph",
          "Twitgraph",
          "Twitgraph",
          "Twitgraph",
          "Twitgraph",
          "Twitgraph",
          "Twitgraph",
          "Twitgraph",
          "Twitgraph",
          "Twitgraph",
          "Twitgraph",
          "Twitgraph",
          "Twitgraph",
          "Twitgraph",
          "Twitgraph",
          "Twitgraph",
          "Twitgraph",
          "Twitgraph",
          "Twitgraph",
          "Twitgraph"
         ],
         "y0": " ",
         "yaxis": "y"
        },
        {
         "alignmentgroup": "True",
         "boxpoints": "all",
         "fillcolor": "rgba(255,255,255,0)",
         "hoveron": "points",
         "hovertemplate": "Repository=%{y}<br>Date=%{x}<extra></extra>",
         "legendgroup": "Extended-Chinese-Remainder-Theorem",
         "line": {
          "color": "rgba(255,255,255,0)"
         },
         "marker": {
          "color": "#FF6692"
         },
         "name": "Extended-Chinese-Remainder-Theorem",
         "offsetgroup": "Extended-Chinese-Remainder-Theorem",
         "orientation": "v",
         "pointpos": 0,
         "showlegend": true,
         "type": "box",
         "x": [
          "2020-11-12T19:35:41+00:00",
          "2020-11-12T19:38:48+00:00",
          "2020-11-12T19:39:43+00:00",
          "2020-11-13T08:31:35+00:00",
          "2020-11-13T08:32:27+00:00",
          "2020-11-13T08:35:06+00:00",
          "2020-11-14T14:54:07+00:00",
          "2020-11-14T16:00:37+00:00",
          "2020-11-14T19:00:57+00:00",
          "2020-11-14T19:35:22+00:00",
          "2020-11-14T19:39:32+00:00",
          "2020-11-22T22:15:35+00:00",
          "2020-11-24T13:31:03+00:00",
          "2020-11-24T22:35:38+00:00",
          "2021-03-10T21:24:39+00:00"
         ],
         "x0": " ",
         "xaxis": "x",
         "y": [
          "Extended-Chinese-Remainder-Theorem",
          "Extended-Chinese-Remainder-Theorem",
          "Extended-Chinese-Remainder-Theorem",
          "Extended-Chinese-Remainder-Theorem",
          "Extended-Chinese-Remainder-Theorem",
          "Extended-Chinese-Remainder-Theorem",
          "Extended-Chinese-Remainder-Theorem",
          "Extended-Chinese-Remainder-Theorem",
          "Extended-Chinese-Remainder-Theorem",
          "Extended-Chinese-Remainder-Theorem",
          "Extended-Chinese-Remainder-Theorem",
          "Extended-Chinese-Remainder-Theorem",
          "Extended-Chinese-Remainder-Theorem",
          "Extended-Chinese-Remainder-Theorem",
          "Extended-Chinese-Remainder-Theorem"
         ],
         "y0": " ",
         "yaxis": "y"
        },
        {
         "alignmentgroup": "True",
         "boxpoints": "all",
         "fillcolor": "rgba(255,255,255,0)",
         "hoveron": "points",
         "hovertemplate": "Repository=%{y}<br>Date=%{x}<extra></extra>",
         "legendgroup": "Stock-Exchange-Database",
         "line": {
          "color": "rgba(255,255,255,0)"
         },
         "marker": {
          "color": "#B6E880"
         },
         "name": "Stock-Exchange-Database",
         "offsetgroup": "Stock-Exchange-Database",
         "orientation": "v",
         "pointpos": 0,
         "showlegend": true,
         "type": "box",
         "x": [
          "2020-11-26T18:08:59+00:00",
          "2020-11-28T08:51:25+00:00",
          "2020-11-28T11:35:24+00:00",
          "2020-11-30T09:34:08+00:00",
          "2020-11-30T09:36:43+00:00",
          "2020-11-30T09:55:41+00:00",
          "2020-12-01T21:02:57+00:00",
          "2020-12-01T21:10:04+00:00",
          "2020-12-07T15:55:18+00:00",
          "2020-12-07T15:58:05+00:00",
          "2020-12-08T00:00:25+00:00",
          "2020-12-08T00:01:51+00:00",
          "2020-12-08T10:26:30+00:00",
          "2020-12-08T11:53:31+00:00",
          "2020-12-08T15:02:50+00:00",
          "2020-12-08T15:03:05+00:00",
          "2020-12-09T16:28:46+00:00"
         ],
         "x0": " ",
         "xaxis": "x",
         "y": [
          "Stock-Exchange-Database",
          "Stock-Exchange-Database",
          "Stock-Exchange-Database",
          "Stock-Exchange-Database",
          "Stock-Exchange-Database",
          "Stock-Exchange-Database",
          "Stock-Exchange-Database",
          "Stock-Exchange-Database",
          "Stock-Exchange-Database",
          "Stock-Exchange-Database",
          "Stock-Exchange-Database",
          "Stock-Exchange-Database",
          "Stock-Exchange-Database",
          "Stock-Exchange-Database",
          "Stock-Exchange-Database",
          "Stock-Exchange-Database",
          "Stock-Exchange-Database"
         ],
         "y0": " ",
         "yaxis": "y"
        },
        {
         "alignmentgroup": "True",
         "boxpoints": "all",
         "fillcolor": "rgba(255,255,255,0)",
         "hoveron": "points",
         "hovertemplate": "Repository=%{y}<br>Date=%{x}<extra></extra>",
         "legendgroup": "Photo-Management-Application",
         "line": {
          "color": "rgba(255,255,255,0)"
         },
         "marker": {
          "color": "#FF97FF"
         },
         "name": "Photo-Management-Application",
         "offsetgroup": "Photo-Management-Application",
         "orientation": "v",
         "pointpos": 0,
         "showlegend": true,
         "type": "box",
         "x": [
          "2020-11-30T07:49:52+00:00",
          "2020-11-30T08:19:52+00:00",
          "2020-11-30T14:12:38+00:00",
          "2020-11-30T14:23:46+00:00",
          "2020-11-30T14:44:05+00:00",
          "2020-11-30T17:54:21+00:00",
          "2020-12-05T22:02:00+00:00",
          "2020-12-05T22:17:07+00:00",
          "2020-12-06T07:17:55+00:00",
          "2020-12-06T07:25:29+00:00",
          "2020-12-06T07:27:44+00:00",
          "2020-12-06T07:32:55+00:00"
         ],
         "x0": " ",
         "xaxis": "x",
         "y": [
          "Photo-Management-Application",
          "Photo-Management-Application",
          "Photo-Management-Application",
          "Photo-Management-Application",
          "Photo-Management-Application",
          "Photo-Management-Application",
          "Photo-Management-Application",
          "Photo-Management-Application",
          "Photo-Management-Application",
          "Photo-Management-Application",
          "Photo-Management-Application",
          "Photo-Management-Application"
         ],
         "y0": " ",
         "yaxis": "y"
        },
        {
         "alignmentgroup": "True",
         "boxpoints": "all",
         "fillcolor": "rgba(255,255,255,0)",
         "hoveron": "points",
         "hovertemplate": "Repository=%{y}<br>Date=%{x}<extra></extra>",
         "legendgroup": "dashboard",
         "line": {
          "color": "rgba(255,255,255,0)"
         },
         "marker": {
          "color": "#FECB52"
         },
         "name": "dashboard",
         "offsetgroup": "dashboard",
         "orientation": "v",
         "pointpos": 0,
         "showlegend": true,
         "type": "box",
         "x": [
          "2020-12-30T20:55:22+00:00",
          "2020-12-31T22:43:53+00:00",
          "2021-01-01T00:34:11+00:00",
          "2021-01-01T00:37:09+00:00",
          "2021-01-01T00:40:00+00:00",
          "2021-01-01T16:27:25+00:00",
          "2021-01-01T16:29:01+00:00",
          "2021-01-01T22:20:26+00:00",
          "2021-01-01T22:22:29+00:00",
          "2021-01-02T17:10:52+00:00",
          "2021-01-02T17:31:34+00:00",
          "2021-01-03T03:18:55+00:00",
          "2021-01-03T12:01:39+00:00",
          "2021-01-03T18:57:36+00:00",
          "2021-01-03T23:02:29+00:00",
          "2021-01-04T02:48:10+00:00",
          "2021-01-04T14:17:35+00:00",
          "2021-01-04T14:28:34+00:00",
          "2021-01-04T15:22:25+00:00",
          "2021-01-04T17:32:20+00:00",
          "2021-01-04T21:32:28+00:00",
          "2021-01-04T21:33:23+00:00",
          "2021-01-04T21:36:26+00:00",
          "2021-01-04T21:46:02+00:00",
          "2021-01-04T22:01:03+00:00",
          "2021-01-04T23:14:46+00:00",
          "2021-01-04T23:59:14+00:00",
          "2021-01-05T01:12:04+00:00",
          "2021-01-05T03:06:34+00:00",
          "2021-01-05T03:08:21+00:00",
          "2021-01-05T13:50:54+00:00",
          "2021-01-05T13:59:18+00:00",
          "2021-01-05T16:50:29+00:00",
          "2021-01-05T17:12:31+00:00",
          "2021-01-05T20:41:47+00:00",
          "2021-01-05T21:33:37+00:00",
          "2021-01-05T21:47:59+00:00",
          "2021-01-05T23:02:04+00:00",
          "2021-01-05T23:12:40+00:00",
          "2021-01-05T23:21:27+00:00",
          "2021-01-05T23:32:14+00:00",
          "2021-01-05T23:35:30+00:00",
          "2021-01-06T01:31:10+00:00",
          "2021-01-06T01:36:35+00:00",
          "2021-01-06T01:41:00+00:00",
          "2021-01-06T01:45:58+00:00",
          "2021-01-06T01:58:54+00:00",
          "2021-01-06T14:05:34+00:00",
          "2021-01-06T18:04:20+00:00",
          "2021-01-07T02:10:06+00:00",
          "2021-01-07T02:10:16+00:00",
          "2021-01-07T02:10:52+00:00",
          "2021-01-07T02:16:25+00:00",
          "2021-01-07T02:18:20+00:00",
          "2021-01-07T02:20:00+00:00",
          "2021-01-07T02:24:31+00:00",
          "2021-01-07T02:26:08+00:00",
          "2021-01-07T02:29:19+00:00",
          "2021-01-07T02:30:59+00:00",
          "2021-01-07T02:34:29+00:00",
          "2021-01-07T02:36:09+00:00",
          "2021-01-07T06:55:19+00:00",
          "2021-01-07T17:25:37+00:00",
          "2021-01-07T17:26:36+00:00",
          "2021-01-07T17:30:47+00:00",
          "2021-01-07T17:41:58+00:00",
          "2021-01-07T17:44:19+00:00",
          "2021-01-07T17:48:50+00:00",
          "2021-01-07T18:01:14+00:00",
          "2021-01-07T18:13:26+00:00",
          "2021-01-07T19:08:38+00:00",
          "2021-01-07T20:01:33+00:00",
          "2021-01-07T20:04:58+00:00",
          "2021-01-07T20:14:52+00:00",
          "2021-01-07T20:42:37+00:00",
          "2021-01-07T20:44:49+00:00",
          "2021-01-07T20:45:46+00:00",
          "2021-01-07T20:48:25+00:00",
          "2021-01-07T21:03:34+00:00",
          "2021-01-07T21:06:44+00:00",
          "2021-01-07T21:11:26+00:00",
          "2021-01-07T21:28:48+00:00",
          "2021-01-07T21:36:47+00:00",
          "2021-01-07T21:39:56+00:00",
          "2021-01-07T21:42:17+00:00",
          "2021-01-07T21:44:38+00:00",
          "2021-01-07T21:50:07+00:00",
          "2021-01-08T02:57:36+00:00",
          "2021-01-09T00:50:59+00:00",
          "2021-01-09T03:22:02+00:00",
          "2021-01-09T03:25:45+00:00",
          "2021-01-09T03:36:11+00:00",
          "2021-01-09T03:44:59+00:00",
          "2021-01-09T06:28:48+00:00",
          "2021-01-09T08:41:04+00:00",
          "2021-01-09T08:44:20+00:00",
          "2021-01-09T19:01:07+00:00",
          "2021-01-09T19:39:23+00:00",
          "2021-01-10T02:57:09+00:00",
          "2021-01-10T10:08:57+00:00",
          "2021-01-10T10:40:33+00:00",
          "2021-01-10T19:42:09+00:00",
          "2021-01-10T19:42:25+00:00",
          "2021-01-10T19:53:16+00:00",
          "2021-01-10T23:51:55+00:00",
          "2021-01-10T23:53:52+00:00",
          "2021-01-11T02:32:18+00:00",
          "2021-01-11T02:32:31+00:00",
          "2021-01-11T02:33:59+00:00",
          "2021-01-11T04:20:42+00:00",
          "2021-01-11T04:24:55+00:00",
          "2021-01-11T07:58:30+00:00",
          "2021-01-11T10:36:30+00:00",
          "2021-01-11T22:48:25+00:00",
          "2021-01-12T12:26:34+00:00",
          "2021-01-12T12:27:30+00:00",
          "2021-01-12T12:30:54+00:00",
          "2021-01-13T04:38:52+00:00",
          "2021-01-13T04:41:34+00:00",
          "2021-01-13T04:44:46+00:00",
          "2021-01-13T04:45:13+00:00",
          "2021-01-13T04:49:40+00:00",
          "2021-01-13T05:01:12+00:00",
          "2021-01-13T06:05:00+00:00",
          "2021-01-14T14:18:52+00:00",
          "2021-01-14T14:27:28+00:00",
          "2021-01-14T14:46:21+00:00",
          "2021-01-14T14:56:25+00:00",
          "2021-01-14T15:01:37+00:00",
          "2021-01-14T15:21:35+00:00",
          "2021-03-14T20:31:12+00:00",
          "2021-05-07T01:42:12+00:00",
          "2021-05-07T01:58:40+00:00",
          "2021-05-07T02:01:02+00:00",
          "2021-05-07T22:10:34+00:00",
          "2021-05-08T06:15:19+00:00",
          "2021-05-08T06:19:58+00:00",
          "2021-05-08T08:35:17+00:00",
          "2021-05-08T08:43:13+00:00",
          "2021-05-08T08:54:21+00:00",
          "2021-05-08T08:56:17+00:00",
          "2021-05-08T18:50:09+00:00",
          "2021-05-08T18:56:58+00:00",
          "2021-05-08T19:54:51+00:00"
         ],
         "x0": " ",
         "xaxis": "x",
         "y": [
          "dashboard",
          "dashboard",
          "dashboard",
          "dashboard",
          "dashboard",
          "dashboard",
          "dashboard",
          "dashboard",
          "dashboard",
          "dashboard",
          "dashboard",
          "dashboard",
          "dashboard",
          "dashboard",
          "dashboard",
          "dashboard",
          "dashboard",
          "dashboard",
          "dashboard",
          "dashboard",
          "dashboard",
          "dashboard",
          "dashboard",
          "dashboard",
          "dashboard",
          "dashboard",
          "dashboard",
          "dashboard",
          "dashboard",
          "dashboard",
          "dashboard",
          "dashboard",
          "dashboard",
          "dashboard",
          "dashboard",
          "dashboard",
          "dashboard",
          "dashboard",
          "dashboard",
          "dashboard",
          "dashboard",
          "dashboard",
          "dashboard",
          "dashboard",
          "dashboard",
          "dashboard",
          "dashboard",
          "dashboard",
          "dashboard",
          "dashboard",
          "dashboard",
          "dashboard",
          "dashboard",
          "dashboard",
          "dashboard",
          "dashboard",
          "dashboard",
          "dashboard",
          "dashboard",
          "dashboard",
          "dashboard",
          "dashboard",
          "dashboard",
          "dashboard",
          "dashboard",
          "dashboard",
          "dashboard",
          "dashboard",
          "dashboard",
          "dashboard",
          "dashboard",
          "dashboard",
          "dashboard",
          "dashboard",
          "dashboard",
          "dashboard",
          "dashboard",
          "dashboard",
          "dashboard",
          "dashboard",
          "dashboard",
          "dashboard",
          "dashboard",
          "dashboard",
          "dashboard",
          "dashboard",
          "dashboard",
          "dashboard",
          "dashboard",
          "dashboard",
          "dashboard",
          "dashboard",
          "dashboard",
          "dashboard",
          "dashboard",
          "dashboard",
          "dashboard",
          "dashboard",
          "dashboard",
          "dashboard",
          "dashboard",
          "dashboard",
          "dashboard",
          "dashboard",
          "dashboard",
          "dashboard",
          "dashboard",
          "dashboard",
          "dashboard",
          "dashboard",
          "dashboard",
          "dashboard",
          "dashboard",
          "dashboard",
          "dashboard",
          "dashboard",
          "dashboard",
          "dashboard",
          "dashboard",
          "dashboard",
          "dashboard",
          "dashboard",
          "dashboard",
          "dashboard",
          "dashboard",
          "dashboard",
          "dashboard",
          "dashboard",
          "dashboard",
          "dashboard",
          "dashboard",
          "dashboard",
          "dashboard",
          "dashboard",
          "dashboard",
          "dashboard",
          "dashboard",
          "dashboard",
          "dashboard",
          "dashboard",
          "dashboard",
          "dashboard",
          "dashboard",
          "dashboard"
         ],
         "y0": " ",
         "yaxis": "y"
        },
        {
         "alignmentgroup": "True",
         "boxpoints": "all",
         "fillcolor": "rgba(255,255,255,0)",
         "hoveron": "points",
         "hovertemplate": "Repository=%{y}<br>Date=%{x}<extra></extra>",
         "legendgroup": "Whatboard",
         "line": {
          "color": "rgba(255,255,255,0)"
         },
         "marker": {
          "color": "#636efa"
         },
         "name": "Whatboard",
         "offsetgroup": "Whatboard",
         "orientation": "v",
         "pointpos": 0,
         "showlegend": true,
         "type": "box",
         "x": [
          "2021-01-13T06:57:26+00:00"
         ],
         "x0": " ",
         "xaxis": "x",
         "y": [
          "Whatboard"
         ],
         "y0": " ",
         "yaxis": "y"
        },
        {
         "alignmentgroup": "True",
         "boxpoints": "all",
         "fillcolor": "rgba(255,255,255,0)",
         "hoveron": "points",
         "hovertemplate": "Repository=%{y}<br>Date=%{x}<extra></extra>",
         "legendgroup": "Grades-Animator",
         "line": {
          "color": "rgba(255,255,255,0)"
         },
         "marker": {
          "color": "#EF553B"
         },
         "name": "Grades-Animator",
         "offsetgroup": "Grades-Animator",
         "orientation": "v",
         "pointpos": 0,
         "showlegend": true,
         "type": "box",
         "x": [
          "2021-03-10T21:37:36+00:00",
          "2021-10-26T22:15:35+00:00",
          "2021-10-27T16:31:53+00:00",
          "2021-10-28T00:01:18+00:00",
          "2021-10-28T00:15:12+00:00",
          "2021-10-28T00:15:43+00:00",
          "2021-12-06T13:31:42+00:00",
          "2021-12-06T13:35:53+00:00",
          "2021-12-06T13:35:55+00:00"
         ],
         "x0": " ",
         "xaxis": "x",
         "y": [
          "Grades-Animator",
          "Grades-Animator",
          "Grades-Animator",
          "Grades-Animator",
          "Grades-Animator",
          "Grades-Animator",
          "Grades-Animator",
          "Grades-Animator",
          "Grades-Animator"
         ],
         "y0": " ",
         "yaxis": "y"
        },
        {
         "alignmentgroup": "True",
         "boxpoints": "all",
         "fillcolor": "rgba(255,255,255,0)",
         "hoveron": "points",
         "hovertemplate": "Repository=%{y}<br>Date=%{x}<extra></extra>",
         "legendgroup": "Othello-Agents",
         "line": {
          "color": "rgba(255,255,255,0)"
         },
         "marker": {
          "color": "#00cc96"
         },
         "name": "Othello-Agents",
         "offsetgroup": "Othello-Agents",
         "orientation": "v",
         "pointpos": 0,
         "showlegend": true,
         "type": "box",
         "x": [
          "2021-04-24T11:56:25+00:00",
          "2021-04-24T11:58:43+00:00"
         ],
         "x0": " ",
         "xaxis": "x",
         "y": [
          "Othello-Agents",
          "Othello-Agents"
         ],
         "y0": " ",
         "yaxis": "y"
        },
        {
         "alignmentgroup": "True",
         "boxpoints": "all",
         "fillcolor": "rgba(255,255,255,0)",
         "hoveron": "points",
         "hovertemplate": "Repository=%{y}<br>Date=%{x}<extra></extra>",
         "legendgroup": "Bridge-And-Torch-Problem",
         "line": {
          "color": "rgba(255,255,255,0)"
         },
         "marker": {
          "color": "#ab63fa"
         },
         "name": "Bridge-And-Torch-Problem",
         "offsetgroup": "Bridge-And-Torch-Problem",
         "orientation": "v",
         "pointpos": 0,
         "showlegend": true,
         "type": "box",
         "x": [
          "2021-04-24T12:12:22+00:00"
         ],
         "x0": " ",
         "xaxis": "x",
         "y": [
          "Bridge-And-Torch-Problem"
         ],
         "y0": " ",
         "yaxis": "y"
        },
        {
         "alignmentgroup": "True",
         "boxpoints": "all",
         "fillcolor": "rgba(255,255,255,0)",
         "hoveron": "points",
         "hovertemplate": "Repository=%{y}<br>Date=%{x}<extra></extra>",
         "legendgroup": "whatboard-standalone",
         "line": {
          "color": "rgba(255,255,255,0)"
         },
         "marker": {
          "color": "#FFA15A"
         },
         "name": "whatboard-standalone",
         "offsetgroup": "whatboard-standalone",
         "orientation": "v",
         "pointpos": 0,
         "showlegend": true,
         "type": "box",
         "x": [
          "2021-05-06T03:53:23+00:00",
          "2021-05-06T04:20:58+00:00",
          "2021-05-06T04:22:33+00:00",
          "2021-05-06T04:43:40+00:00",
          "2021-05-06T16:25:27+00:00",
          "2021-05-06T16:29:07+00:00",
          "2021-05-06T16:33:08+00:00",
          "2021-05-06T16:36:16+00:00",
          "2021-05-06T16:41:40+00:00",
          "2021-05-06T17:36:21+00:00",
          "2021-05-06T17:40:25+00:00",
          "2021-05-06T17:50:06+00:00",
          "2021-05-06T18:29:41+00:00",
          "2021-05-06T18:33:36+00:00"
         ],
         "x0": " ",
         "xaxis": "x",
         "y": [
          "whatboard-standalone",
          "whatboard-standalone",
          "whatboard-standalone",
          "whatboard-standalone",
          "whatboard-standalone",
          "whatboard-standalone",
          "whatboard-standalone",
          "whatboard-standalone",
          "whatboard-standalone",
          "whatboard-standalone",
          "whatboard-standalone",
          "whatboard-standalone",
          "whatboard-standalone",
          "whatboard-standalone"
         ],
         "y0": " ",
         "yaxis": "y"
        },
        {
         "alignmentgroup": "True",
         "boxpoints": "all",
         "fillcolor": "rgba(255,255,255,0)",
         "hoveron": "points",
         "hovertemplate": "Repository=%{y}<br>Date=%{x}<extra></extra>",
         "legendgroup": "Website",
         "line": {
          "color": "rgba(255,255,255,0)"
         },
         "marker": {
          "color": "#19d3f3"
         },
         "name": "Website",
         "offsetgroup": "Website",
         "orientation": "v",
         "pointpos": 0,
         "showlegend": true,
         "type": "box",
         "x": [
          "2021-05-10T03:13:43+00:00",
          "2021-05-12T11:50:17+00:00",
          "2021-05-12T11:58:52+00:00",
          "2021-05-12T12:04:31+00:00",
          "2021-05-12T12:07:09+00:00",
          "2021-05-12T12:11:17+00:00",
          "2021-05-12T14:35:19+00:00",
          "2021-05-12T14:37:51+00:00",
          "2021-05-12T14:39:50+00:00",
          "2021-05-16T14:46:09+00:00",
          "2021-05-16T16:47:52+00:00",
          "2021-05-16T18:24:49+00:00",
          "2021-05-16T18:31:05+00:00",
          "2021-05-16T18:33:28+00:00",
          "2021-05-16T18:52:32+00:00",
          "2021-05-16T18:53:47+00:00",
          "2021-05-16T18:59:31+00:00",
          "2021-05-16T20:56:05+00:00",
          "2021-05-18T13:21:13+00:00",
          "2021-05-18T15:03:07+00:00",
          "2021-05-18T15:05:28+00:00",
          "2021-05-18T15:08:46+00:00",
          "2021-05-18T15:10:25+00:00",
          "2021-05-18T15:11:34+00:00",
          "2021-05-18T15:28:53+00:00",
          "2021-05-18T15:30:56+00:00",
          "2021-05-18T15:36:31+00:00",
          "2021-05-18T15:37:03+00:00",
          "2021-05-18T16:01:46+00:00",
          "2021-05-18T16:19:59+00:00",
          "2021-05-18T16:23:28+00:00",
          "2021-05-18T16:29:43+00:00",
          "2021-05-18T16:55:44+00:00",
          "2021-05-18T18:05:01+00:00",
          "2021-05-18T22:19:19+00:00",
          "2021-05-18T22:20:08+00:00",
          "2021-05-18T22:37:15+00:00",
          "2021-05-19T17:54:15+00:00",
          "2021-05-19T17:58:20+00:00",
          "2021-05-19T20:58:52+00:00",
          "2021-05-19T21:00:59+00:00",
          "2021-05-19T21:04:04+00:00",
          "2021-05-19T21:15:10+00:00",
          "2021-05-19T21:16:22+00:00",
          "2021-05-20T11:12:41+00:00",
          "2021-05-20T12:15:35+00:00",
          "2021-05-20T12:18:03+00:00",
          "2021-05-20T23:53:35+00:00",
          "2021-05-21T00:14:19+00:00",
          "2021-05-21T00:15:00+00:00",
          "2021-05-21T01:29:10+00:00",
          "2021-05-21T21:29:44+00:00",
          "2021-05-22T00:52:56+00:00",
          "2021-05-22T00:57:40+00:00",
          "2021-05-22T15:40:40+00:00",
          "2021-05-22T15:48:31+00:00",
          "2021-05-22T17:52:32+00:00",
          "2021-05-22T18:11:39+00:00",
          "2021-05-22T19:12:54+00:00",
          "2021-05-22T20:07:03+00:00",
          "2021-05-23T01:23:58+00:00",
          "2021-05-23T01:28:53+00:00",
          "2021-05-23T02:43:44+00:00",
          "2021-05-23T02:48:56+00:00",
          "2021-05-23T02:51:07+00:00",
          "2021-05-25T00:30:50+00:00",
          "2021-05-25T01:41:14+00:00",
          "2021-05-25T03:15:12+00:00",
          "2021-05-25T18:36:35+00:00",
          "2021-05-26T02:20:49+00:00",
          "2021-05-26T02:21:09+00:00",
          "2021-05-26T02:26:18+00:00",
          "2021-05-26T21:29:27+00:00",
          "2021-05-26T22:49:10+00:00",
          "2021-05-26T22:51:33+00:00",
          "2021-05-26T23:13:38+00:00",
          "2021-05-26T23:42:21+00:00",
          "2021-05-27T03:25:07+00:00",
          "2021-06-01T20:24:09+00:00",
          "2021-06-01T21:17:47+00:00",
          "2021-06-01T21:41:47+00:00",
          "2021-06-01T22:47:20+00:00",
          "2021-06-02T00:23:25+00:00",
          "2021-06-02T00:25:47+00:00",
          "2021-06-03T19:24:51+00:00",
          "2021-06-03T20:03:09+00:00",
          "2021-06-04T01:30:51+00:00",
          "2021-06-04T01:34:58+00:00",
          "2021-06-04T02:12:06+00:00",
          "2021-06-04T02:13:40+00:00",
          "2021-06-04T03:06:43+00:00",
          "2021-06-04T03:36:21+00:00",
          "2021-06-04T03:58:49+00:00",
          "2021-06-22T19:49:00+00:00",
          "2021-06-23T20:41:16+00:00",
          "2021-06-23T20:43:03+00:00",
          "2021-06-23T20:43:18+00:00",
          "2021-06-23T20:47:59+00:00",
          "2021-06-24T01:50:26+00:00",
          "2021-06-24T01:54:15+00:00",
          "2021-06-24T09:40:24+00:00",
          "2021-06-24T09:43:02+00:00",
          "2021-06-24T09:44:44+00:00",
          "2021-06-24T09:47:23+00:00",
          "2021-06-24T09:50:47+00:00",
          "2021-06-24T09:54:23+00:00",
          "2021-06-24T09:56:58+00:00",
          "2021-06-24T09:57:51+00:00",
          "2021-06-24T21:23:58+00:00",
          "2021-06-24T21:30:55+00:00",
          "2021-06-27T09:14:34+00:00",
          "2021-06-27T09:20:41+00:00",
          "2021-06-27T09:43:30+00:00",
          "2021-06-27T09:47:29+00:00",
          "2021-06-27T10:15:28+00:00",
          "2021-06-28T10:38:43+00:00",
          "2021-06-28T11:34:32+00:00",
          "2021-06-28T12:17:31+00:00",
          "2021-06-28T12:58:42+00:00",
          "2021-06-28T22:34:53+00:00",
          "2021-07-01T06:28:39+00:00",
          "2021-07-01T06:44:08+00:00",
          "2021-07-01T07:19:24+00:00",
          "2021-10-28T00:30:28+00:00"
         ],
         "x0": " ",
         "xaxis": "x",
         "y": [
          "Website",
          "Website",
          "Website",
          "Website",
          "Website",
          "Website",
          "Website",
          "Website",
          "Website",
          "Website",
          "Website",
          "Website",
          "Website",
          "Website",
          "Website",
          "Website",
          "Website",
          "Website",
          "Website",
          "Website",
          "Website",
          "Website",
          "Website",
          "Website",
          "Website",
          "Website",
          "Website",
          "Website",
          "Website",
          "Website",
          "Website",
          "Website",
          "Website",
          "Website",
          "Website",
          "Website",
          "Website",
          "Website",
          "Website",
          "Website",
          "Website",
          "Website",
          "Website",
          "Website",
          "Website",
          "Website",
          "Website",
          "Website",
          "Website",
          "Website",
          "Website",
          "Website",
          "Website",
          "Website",
          "Website",
          "Website",
          "Website",
          "Website",
          "Website",
          "Website",
          "Website",
          "Website",
          "Website",
          "Website",
          "Website",
          "Website",
          "Website",
          "Website",
          "Website",
          "Website",
          "Website",
          "Website",
          "Website",
          "Website",
          "Website",
          "Website",
          "Website",
          "Website",
          "Website",
          "Website",
          "Website",
          "Website",
          "Website",
          "Website",
          "Website",
          "Website",
          "Website",
          "Website",
          "Website",
          "Website",
          "Website",
          "Website",
          "Website",
          "Website",
          "Website",
          "Website",
          "Website",
          "Website",
          "Website",
          "Website",
          "Website",
          "Website",
          "Website",
          "Website",
          "Website",
          "Website",
          "Website",
          "Website",
          "Website",
          "Website",
          "Website",
          "Website",
          "Website",
          "Website",
          "Website",
          "Website",
          "Website",
          "Website",
          "Website",
          "Website",
          "Website",
          "Website",
          "Website",
          "Website"
         ],
         "y0": " ",
         "yaxis": "y"
        },
        {
         "alignmentgroup": "True",
         "boxpoints": "all",
         "fillcolor": "rgba(255,255,255,0)",
         "hoveron": "points",
         "hovertemplate": "Repository=%{y}<br>Date=%{x}<extra></extra>",
         "legendgroup": "Website_Frontend",
         "line": {
          "color": "rgba(255,255,255,0)"
         },
         "marker": {
          "color": "#FF6692"
         },
         "name": "Website_Frontend",
         "offsetgroup": "Website_Frontend",
         "orientation": "v",
         "pointpos": 0,
         "showlegend": true,
         "type": "box",
         "x": [
          "2021-06-04T04:11:29+00:00",
          "2021-06-04T04:31:30+00:00",
          "2021-06-04T04:36:11+00:00",
          "2021-06-04T04:38:15+00:00",
          "2021-06-04T18:54:51+00:00",
          "2021-06-07T01:53:43+00:00",
          "2021-12-02T11:58:58+00:00",
          "2021-12-02T12:07:21+00:00",
          "2021-12-02T12:09:13+00:00",
          "2021-12-04T19:38:50+00:00",
          "2021-12-04T20:16:27+00:00",
          "2021-12-05T13:37:17+00:00",
          "2021-12-06T13:27:12+00:00",
          "2021-12-06T14:21:05+00:00",
          "2021-12-08T18:30:07+00:00",
          "2021-12-11T19:58:19+00:00",
          "2021-12-11T20:15:49+00:00",
          "2021-12-11T20:17:36+00:00",
          "2021-12-11T20:20:45+00:00",
          "2021-12-11T20:26:18+00:00",
          "2021-12-11T21:04:52+00:00",
          "2022-01-09T21:07:39+00:00",
          "2022-02-13T19:22:29+00:00",
          "2022-04-03T14:35:12+00:00"
         ],
         "x0": " ",
         "xaxis": "x",
         "y": [
          "Website_Frontend",
          "Website_Frontend",
          "Website_Frontend",
          "Website_Frontend",
          "Website_Frontend",
          "Website_Frontend",
          "Website_Frontend",
          "Website_Frontend",
          "Website_Frontend",
          "Website_Frontend",
          "Website_Frontend",
          "Website_Frontend",
          "Website_Frontend",
          "Website_Frontend",
          "Website_Frontend",
          "Website_Frontend",
          "Website_Frontend",
          "Website_Frontend",
          "Website_Frontend",
          "Website_Frontend",
          "Website_Frontend",
          "Website_Frontend",
          "Website_Frontend",
          "Website_Frontend"
         ],
         "y0": " ",
         "yaxis": "y"
        },
        {
         "alignmentgroup": "True",
         "boxpoints": "all",
         "fillcolor": "rgba(255,255,255,0)",
         "hoveron": "points",
         "hovertemplate": "Repository=%{y}<br>Date=%{x}<extra></extra>",
         "legendgroup": "dialect-predictor",
         "line": {
          "color": "rgba(255,255,255,0)"
         },
         "marker": {
          "color": "#B6E880"
         },
         "name": "dialect-predictor",
         "offsetgroup": "dialect-predictor",
         "orientation": "v",
         "pointpos": 0,
         "showlegend": true,
         "type": "box",
         "x": [
          "2021-06-27T06:19:51+00:00",
          "2021-06-27T06:22:13+00:00",
          "2021-06-27T06:24:52+00:00",
          "2021-06-27T07:09:04+00:00",
          "2021-06-27T07:28:14+00:00",
          "2021-06-27T07:35:58+00:00",
          "2021-06-27T07:39:39+00:00",
          "2021-06-27T07:41:50+00:00",
          "2021-06-27T07:44:05+00:00",
          "2021-06-27T08:14:40+00:00",
          "2021-06-27T08:18:37+00:00",
          "2021-10-01T23:54:17+00:00"
         ],
         "x0": " ",
         "xaxis": "x",
         "y": [
          "dialect-predictor",
          "dialect-predictor",
          "dialect-predictor",
          "dialect-predictor",
          "dialect-predictor",
          "dialect-predictor",
          "dialect-predictor",
          "dialect-predictor",
          "dialect-predictor",
          "dialect-predictor",
          "dialect-predictor",
          "dialect-predictor"
         ],
         "y0": " ",
         "yaxis": "y"
        },
        {
         "alignmentgroup": "True",
         "boxpoints": "all",
         "fillcolor": "rgba(255,255,255,0)",
         "hoveron": "points",
         "hovertemplate": "Repository=%{y}<br>Date=%{x}<extra></extra>",
         "legendgroup": "Arabic-Font-Detector",
         "line": {
          "color": "rgba(255,255,255,0)"
         },
         "marker": {
          "color": "#FF97FF"
         },
         "name": "Arabic-Font-Detector",
         "offsetgroup": "Arabic-Font-Detector",
         "orientation": "v",
         "pointpos": 0,
         "showlegend": true,
         "type": "box",
         "x": [
          "2021-07-15T15:19:23+00:00",
          "2021-07-15T15:22:01+00:00",
          "2021-07-16T00:54:32+00:00",
          "2021-07-16T00:54:49+00:00",
          "2021-07-17T00:19:11+00:00",
          "2021-07-17T16:12:52+00:00",
          "2021-07-17T16:12:56+00:00",
          "2021-07-17T17:57:09+00:00",
          "2021-07-17T22:01:32+00:00",
          "2021-07-17T22:06:37+00:00",
          "2021-07-17T22:52:00+00:00",
          "2021-07-17T22:52:18+00:00",
          "2021-07-18T00:05:57+00:00",
          "2021-07-18T00:06:04+00:00",
          "2021-07-18T00:17:06+00:00",
          "2021-07-18T03:28:07+00:00",
          "2021-07-18T04:00:18+00:00",
          "2021-07-18T04:19:01+00:00",
          "2021-07-18T19:55:54+00:00",
          "2021-07-19T05:38:44+00:00",
          "2021-07-19T05:39:03+00:00",
          "2021-07-19T06:15:29+00:00",
          "2021-07-20T04:57:20+00:00",
          "2021-07-20T06:41:49+00:00",
          "2021-07-20T06:46:10+00:00",
          "2021-07-20T06:50:18+00:00",
          "2021-07-20T06:50:27+00:00"
         ],
         "x0": " ",
         "xaxis": "x",
         "y": [
          "Arabic-Font-Detector",
          "Arabic-Font-Detector",
          "Arabic-Font-Detector",
          "Arabic-Font-Detector",
          "Arabic-Font-Detector",
          "Arabic-Font-Detector",
          "Arabic-Font-Detector",
          "Arabic-Font-Detector",
          "Arabic-Font-Detector",
          "Arabic-Font-Detector",
          "Arabic-Font-Detector",
          "Arabic-Font-Detector",
          "Arabic-Font-Detector",
          "Arabic-Font-Detector",
          "Arabic-Font-Detector",
          "Arabic-Font-Detector",
          "Arabic-Font-Detector",
          "Arabic-Font-Detector",
          "Arabic-Font-Detector",
          "Arabic-Font-Detector",
          "Arabic-Font-Detector",
          "Arabic-Font-Detector",
          "Arabic-Font-Detector",
          "Arabic-Font-Detector",
          "Arabic-Font-Detector",
          "Arabic-Font-Detector",
          "Arabic-Font-Detector"
         ],
         "y0": " ",
         "yaxis": "y"
        },
        {
         "alignmentgroup": "True",
         "boxpoints": "all",
         "fillcolor": "rgba(255,255,255,0)",
         "hoveron": "points",
         "hovertemplate": "Repository=%{y}<br>Date=%{x}<extra></extra>",
         "legendgroup": "Cyclegan-Arabic-Font",
         "line": {
          "color": "rgba(255,255,255,0)"
         },
         "marker": {
          "color": "#FECB52"
         },
         "name": "Cyclegan-Arabic-Font",
         "offsetgroup": "Cyclegan-Arabic-Font",
         "orientation": "v",
         "pointpos": 0,
         "showlegend": true,
         "type": "box",
         "x": [
          "2021-07-21T09:09:04+00:00"
         ],
         "x0": " ",
         "xaxis": "x",
         "y": [
          "Cyclegan-Arabic-Font"
         ],
         "y0": " ",
         "yaxis": "y"
        },
        {
         "alignmentgroup": "True",
         "boxpoints": "all",
         "fillcolor": "rgba(255,255,255,0)",
         "hoveron": "points",
         "hovertemplate": "Repository=%{y}<br>Date=%{x}<extra></extra>",
         "legendgroup": "Dialect-Graduation-Project",
         "line": {
          "color": "rgba(255,255,255,0)"
         },
         "marker": {
          "color": "#636efa"
         },
         "name": "Dialect-Graduation-Project",
         "offsetgroup": "Dialect-Graduation-Project",
         "orientation": "v",
         "pointpos": 0,
         "showlegend": true,
         "type": "box",
         "x": [
          "2021-09-09T17:10:52+00:00",
          "2021-09-09T17:21:14+00:00",
          "2021-09-09T17:22:15+00:00",
          "2021-09-09T17:22:26+00:00",
          "2021-09-11T05:22:45+00:00",
          "2021-09-11T05:23:28+00:00",
          "2021-09-11T20:38:30+00:00",
          "2021-09-11T20:39:13+00:00",
          "2021-09-12T05:00:44+00:00",
          "2021-09-12T05:10:32+00:00",
          "2021-09-12T20:20:06+00:00",
          "2021-09-12T20:20:36+00:00",
          "2021-09-12T20:21:20+00:00",
          "2021-09-13T11:01:13+00:00",
          "2021-09-13T11:02:29+00:00",
          "2021-09-13T16:39:01+00:00",
          "2021-09-13T19:47:09+00:00",
          "2021-09-14T19:01:38+00:00",
          "2021-09-14T19:04:00+00:00",
          "2021-09-14T19:17:01+00:00",
          "2021-09-16T17:31:37+00:00",
          "2021-09-24T13:23:55+00:00",
          "2021-09-24T16:26:19+00:00",
          "2021-09-24T16:44:13+00:00",
          "2021-09-24T16:44:23+00:00",
          "2021-09-24T16:46:20+00:00",
          "2021-09-26T14:58:17+00:00",
          "2021-09-29T01:55:53+00:00",
          "2021-09-29T01:56:05+00:00",
          "2021-09-29T02:15:53+00:00",
          "2021-09-29T02:30:54+00:00",
          "2021-09-30T02:49:04+00:00",
          "2021-09-30T05:24:08+00:00",
          "2021-09-30T07:37:27+00:00",
          "2021-10-01T02:55:51+00:00",
          "2021-10-01T02:56:14+00:00",
          "2021-10-01T03:03:31+00:00",
          "2021-10-01T03:05:36+00:00",
          "2021-10-01T19:41:43+00:00",
          "2021-10-01T19:42:04+00:00",
          "2021-10-01T22:09:23+00:00",
          "2021-10-01T22:09:45+00:00",
          "2021-10-01T22:10:40+00:00",
          "2021-10-03T10:34:59+00:00",
          "2021-10-12T11:25:34+00:00",
          "2021-10-17T14:12:51+00:00",
          "2021-10-17T14:13:01+00:00",
          "2021-10-25T20:11:17+00:00",
          "2021-10-31T02:50:30+00:00",
          "2021-10-31T19:48:25+00:00",
          "2021-11-29T16:20:55+00:00",
          "2021-11-29T18:36:43+00:00",
          "2021-12-02T09:38:59+00:00",
          "2021-12-02T09:40:24+00:00",
          "2021-12-02T13:16:29+00:00",
          "2021-12-02T13:51:35+00:00",
          "2021-12-02T17:05:29+00:00",
          "2021-12-02T19:48:33+00:00",
          "2021-12-02T20:15:56+00:00",
          "2021-12-04T13:59:15+00:00",
          "2021-12-04T14:51:27+00:00",
          "2021-12-04T14:52:15+00:00",
          "2021-12-04T16:13:13+00:00",
          "2021-12-08T12:15:46+00:00",
          "2021-12-08T17:39:59+00:00",
          "2021-12-08T18:02:50+00:00",
          "2021-12-10T23:27:24+00:00",
          "2021-12-10T23:28:20+00:00",
          "2021-12-10T23:29:52+00:00",
          "2021-12-11T15:25:33+00:00",
          "2022-01-09T21:45:09+00:00",
          "2022-01-09T21:48:48+00:00",
          "2022-01-09T21:55:25+00:00",
          "2022-01-09T22:44:11+00:00",
          "2022-02-02T00:44:37+00:00",
          "2022-02-02T00:45:00+00:00",
          "2022-02-02T00:45:04+00:00",
          "2022-02-03T23:39:17+00:00",
          "2022-02-03T23:44:34+00:00",
          "2022-02-05T20:22:02+00:00",
          "2022-02-05T20:24:13+00:00",
          "2022-02-09T19:18:01+00:00",
          "2022-02-19T10:06:04+00:00",
          "2022-03-16T02:37:01+00:00",
          "2022-03-16T02:37:08+00:00",
          "2022-03-16T02:38:42+00:00",
          "2022-03-16T03:31:11+00:00",
          "2022-03-23T15:01:53+00:00",
          "2022-03-24T06:24:58+00:00",
          "2022-03-24T06:25:05+00:00",
          "2022-03-24T07:17:37+00:00",
          "2022-03-24T08:10:19+00:00",
          "2022-03-25T14:59:02+00:00",
          "2022-03-25T14:59:19+00:00",
          "2022-03-25T15:53:00+00:00",
          "2022-03-25T15:53:19+00:00",
          "2022-03-25T15:58:28+00:00",
          "2022-03-25T15:59:07+00:00",
          "2022-03-25T16:00:24+00:00",
          "2022-03-29T20:21:01+00:00",
          "2022-03-29T20:21:21+00:00",
          "2022-03-29T20:23:37+00:00",
          "2022-03-29T20:23:51+00:00",
          "2022-04-03T16:12:57+00:00",
          "2022-04-03T16:14:41+00:00",
          "2022-04-03T17:54:11+00:00",
          "2022-04-03T17:54:18+00:00",
          "2022-04-03T19:05:23+00:00",
          "2022-04-05T18:17:06+00:00",
          "2022-04-05T18:17:32+00:00",
          "2022-04-05T18:18:10+00:00"
         ],
         "x0": " ",
         "xaxis": "x",
         "y": [
          "Dialect-Graduation-Project",
          "Dialect-Graduation-Project",
          "Dialect-Graduation-Project",
          "Dialect-Graduation-Project",
          "Dialect-Graduation-Project",
          "Dialect-Graduation-Project",
          "Dialect-Graduation-Project",
          "Dialect-Graduation-Project",
          "Dialect-Graduation-Project",
          "Dialect-Graduation-Project",
          "Dialect-Graduation-Project",
          "Dialect-Graduation-Project",
          "Dialect-Graduation-Project",
          "Dialect-Graduation-Project",
          "Dialect-Graduation-Project",
          "Dialect-Graduation-Project",
          "Dialect-Graduation-Project",
          "Dialect-Graduation-Project",
          "Dialect-Graduation-Project",
          "Dialect-Graduation-Project",
          "Dialect-Graduation-Project",
          "Dialect-Graduation-Project",
          "Dialect-Graduation-Project",
          "Dialect-Graduation-Project",
          "Dialect-Graduation-Project",
          "Dialect-Graduation-Project",
          "Dialect-Graduation-Project",
          "Dialect-Graduation-Project",
          "Dialect-Graduation-Project",
          "Dialect-Graduation-Project",
          "Dialect-Graduation-Project",
          "Dialect-Graduation-Project",
          "Dialect-Graduation-Project",
          "Dialect-Graduation-Project",
          "Dialect-Graduation-Project",
          "Dialect-Graduation-Project",
          "Dialect-Graduation-Project",
          "Dialect-Graduation-Project",
          "Dialect-Graduation-Project",
          "Dialect-Graduation-Project",
          "Dialect-Graduation-Project",
          "Dialect-Graduation-Project",
          "Dialect-Graduation-Project",
          "Dialect-Graduation-Project",
          "Dialect-Graduation-Project",
          "Dialect-Graduation-Project",
          "Dialect-Graduation-Project",
          "Dialect-Graduation-Project",
          "Dialect-Graduation-Project",
          "Dialect-Graduation-Project",
          "Dialect-Graduation-Project",
          "Dialect-Graduation-Project",
          "Dialect-Graduation-Project",
          "Dialect-Graduation-Project",
          "Dialect-Graduation-Project",
          "Dialect-Graduation-Project",
          "Dialect-Graduation-Project",
          "Dialect-Graduation-Project",
          "Dialect-Graduation-Project",
          "Dialect-Graduation-Project",
          "Dialect-Graduation-Project",
          "Dialect-Graduation-Project",
          "Dialect-Graduation-Project",
          "Dialect-Graduation-Project",
          "Dialect-Graduation-Project",
          "Dialect-Graduation-Project",
          "Dialect-Graduation-Project",
          "Dialect-Graduation-Project",
          "Dialect-Graduation-Project",
          "Dialect-Graduation-Project",
          "Dialect-Graduation-Project",
          "Dialect-Graduation-Project",
          "Dialect-Graduation-Project",
          "Dialect-Graduation-Project",
          "Dialect-Graduation-Project",
          "Dialect-Graduation-Project",
          "Dialect-Graduation-Project",
          "Dialect-Graduation-Project",
          "Dialect-Graduation-Project",
          "Dialect-Graduation-Project",
          "Dialect-Graduation-Project",
          "Dialect-Graduation-Project",
          "Dialect-Graduation-Project",
          "Dialect-Graduation-Project",
          "Dialect-Graduation-Project",
          "Dialect-Graduation-Project",
          "Dialect-Graduation-Project",
          "Dialect-Graduation-Project",
          "Dialect-Graduation-Project",
          "Dialect-Graduation-Project",
          "Dialect-Graduation-Project",
          "Dialect-Graduation-Project",
          "Dialect-Graduation-Project",
          "Dialect-Graduation-Project",
          "Dialect-Graduation-Project",
          "Dialect-Graduation-Project",
          "Dialect-Graduation-Project",
          "Dialect-Graduation-Project",
          "Dialect-Graduation-Project",
          "Dialect-Graduation-Project",
          "Dialect-Graduation-Project",
          "Dialect-Graduation-Project",
          "Dialect-Graduation-Project",
          "Dialect-Graduation-Project",
          "Dialect-Graduation-Project",
          "Dialect-Graduation-Project",
          "Dialect-Graduation-Project",
          "Dialect-Graduation-Project",
          "Dialect-Graduation-Project",
          "Dialect-Graduation-Project",
          "Dialect-Graduation-Project"
         ],
         "y0": " ",
         "yaxis": "y"
        },
        {
         "alignmentgroup": "True",
         "boxpoints": "all",
         "fillcolor": "rgba(255,255,255,0)",
         "hoveron": "points",
         "hovertemplate": "Repository=%{y}<br>Date=%{x}<extra></extra>",
         "legendgroup": "Dialect-Graduation-Project-Fullstack",
         "line": {
          "color": "rgba(255,255,255,0)"
         },
         "marker": {
          "color": "#EF553B"
         },
         "name": "Dialect-Graduation-Project-Fullstack",
         "offsetgroup": "Dialect-Graduation-Project-Fullstack",
         "orientation": "v",
         "pointpos": 0,
         "showlegend": true,
         "type": "box",
         "x": [
          "2021-10-02T00:16:47+00:00",
          "2021-11-28T14:09:23+00:00",
          "2021-11-28T14:24:50+00:00",
          "2021-11-28T14:25:10+00:00",
          "2021-11-28T14:30:07+00:00",
          "2021-12-05T09:54:49+00:00",
          "2021-12-05T14:07:05+00:00",
          "2021-12-05T14:09:29+00:00",
          "2021-12-06T15:14:18+00:00",
          "2022-02-14T01:12:10+00:00",
          "2022-02-14T01:12:34+00:00",
          "2022-02-14T01:34:20+00:00",
          "2022-02-14T02:09:15+00:00",
          "2022-02-14T02:09:19+00:00",
          "2022-02-14T02:32:02+00:00",
          "2022-02-14T02:33:52+00:00",
          "2022-02-14T02:36:14+00:00",
          "2022-02-15T19:56:39+00:00",
          "2022-02-19T08:17:41+00:00",
          "2022-02-19T09:06:04+00:00",
          "2022-02-19T09:12:16+00:00",
          "2022-03-12T21:06:53+00:00",
          "2022-03-12T21:06:56+00:00",
          "2022-03-25T16:16:29+00:00",
          "2022-03-25T16:16:55+00:00",
          "2022-03-25T16:58:53+00:00"
         ],
         "x0": " ",
         "xaxis": "x",
         "y": [
          "Dialect-Graduation-Project-Fullstack",
          "Dialect-Graduation-Project-Fullstack",
          "Dialect-Graduation-Project-Fullstack",
          "Dialect-Graduation-Project-Fullstack",
          "Dialect-Graduation-Project-Fullstack",
          "Dialect-Graduation-Project-Fullstack",
          "Dialect-Graduation-Project-Fullstack",
          "Dialect-Graduation-Project-Fullstack",
          "Dialect-Graduation-Project-Fullstack",
          "Dialect-Graduation-Project-Fullstack",
          "Dialect-Graduation-Project-Fullstack",
          "Dialect-Graduation-Project-Fullstack",
          "Dialect-Graduation-Project-Fullstack",
          "Dialect-Graduation-Project-Fullstack",
          "Dialect-Graduation-Project-Fullstack",
          "Dialect-Graduation-Project-Fullstack",
          "Dialect-Graduation-Project-Fullstack",
          "Dialect-Graduation-Project-Fullstack",
          "Dialect-Graduation-Project-Fullstack",
          "Dialect-Graduation-Project-Fullstack",
          "Dialect-Graduation-Project-Fullstack",
          "Dialect-Graduation-Project-Fullstack",
          "Dialect-Graduation-Project-Fullstack",
          "Dialect-Graduation-Project-Fullstack",
          "Dialect-Graduation-Project-Fullstack",
          "Dialect-Graduation-Project-Fullstack"
         ],
         "y0": " ",
         "yaxis": "y"
        },
        {
         "alignmentgroup": "True",
         "boxpoints": "all",
         "fillcolor": "rgba(255,255,255,0)",
         "hoveron": "points",
         "hovertemplate": "Repository=%{y}<br>Date=%{x}<extra></extra>",
         "legendgroup": "BitDictor",
         "line": {
          "color": "rgba(255,255,255,0)"
         },
         "marker": {
          "color": "#00cc96"
         },
         "name": "BitDictor",
         "offsetgroup": "BitDictor",
         "orientation": "v",
         "pointpos": 0,
         "showlegend": true,
         "type": "box",
         "x": [
          "2021-11-04T19:21:33+00:00",
          "2021-11-04T19:21:41+00:00",
          "2021-11-04T19:25:33+00:00",
          "2021-11-04T19:28:09+00:00",
          "2021-11-04T20:28:01+00:00",
          "2021-11-04T20:56:06+00:00",
          "2021-11-04T21:30:56+00:00",
          "2021-11-04T21:31:08+00:00",
          "2021-11-04T21:31:29+00:00",
          "2021-11-05T12:18:24+00:00",
          "2021-11-05T12:18:54+00:00",
          "2021-11-05T14:34:50+00:00",
          "2021-11-05T15:18:02+00:00",
          "2021-11-05T17:53:04+00:00",
          "2021-11-05T17:58:33+00:00"
         ],
         "x0": " ",
         "xaxis": "x",
         "y": [
          "BitDictor",
          "BitDictor",
          "BitDictor",
          "BitDictor",
          "BitDictor",
          "BitDictor",
          "BitDictor",
          "BitDictor",
          "BitDictor",
          "BitDictor",
          "BitDictor",
          "BitDictor",
          "BitDictor",
          "BitDictor",
          "BitDictor"
         ],
         "y0": " ",
         "yaxis": "y"
        },
        {
         "alignmentgroup": "True",
         "boxpoints": "all",
         "fillcolor": "rgba(255,255,255,0)",
         "hoveron": "points",
         "hovertemplate": "Repository=%{y}<br>Date=%{x}<extra></extra>",
         "legendgroup": "TCP-Chat",
         "line": {
          "color": "rgba(255,255,255,0)"
         },
         "marker": {
          "color": "#ab63fa"
         },
         "name": "TCP-Chat",
         "offsetgroup": "TCP-Chat",
         "orientation": "v",
         "pointpos": 0,
         "showlegend": true,
         "type": "box",
         "x": [
          "2021-11-13T06:43:43+00:00",
          "2021-11-13T06:44:54+00:00",
          "2021-11-13T06:54:19+00:00",
          "2021-11-13T13:53:06+00:00",
          "2021-11-13T15:01:53+00:00",
          "2021-11-13T16:14:07+00:00",
          "2021-11-13T16:20:56+00:00",
          "2021-11-13T17:19:37+00:00",
          "2021-11-13T17:20:42+00:00",
          "2021-11-13T17:32:12+00:00",
          "2021-11-13T17:37:23+00:00",
          "2021-11-13T17:42:48+00:00",
          "2021-11-13T17:59:24+00:00",
          "2021-11-13T18:02:35+00:00",
          "2021-11-13T18:10:25+00:00",
          "2021-11-13T18:14:04+00:00",
          "2021-11-13T18:24:36+00:00",
          "2021-11-13T18:29:21+00:00",
          "2021-11-13T18:29:38+00:00",
          "2021-11-13T18:41:08+00:00",
          "2021-11-13T18:48:28+00:00",
          "2021-11-13T19:57:27+00:00",
          "2021-11-13T20:09:38+00:00",
          "2021-11-14T09:10:38+00:00",
          "2021-11-14T11:15:55+00:00",
          "2021-11-14T11:16:03+00:00",
          "2021-11-14T12:55:44+00:00",
          "2021-11-14T19:39:34+00:00",
          "2021-11-15T05:54:34+00:00",
          "2021-11-17T05:57:18+00:00",
          "2021-11-17T06:04:30+00:00",
          "2021-11-17T06:06:30+00:00",
          "2021-11-25T13:35:03+00:00",
          "2021-11-25T13:35:15+00:00",
          "2021-12-09T07:30:18+00:00",
          "2021-12-09T07:36:27+00:00"
         ],
         "x0": " ",
         "xaxis": "x",
         "y": [
          "TCP-Chat",
          "TCP-Chat",
          "TCP-Chat",
          "TCP-Chat",
          "TCP-Chat",
          "TCP-Chat",
          "TCP-Chat",
          "TCP-Chat",
          "TCP-Chat",
          "TCP-Chat",
          "TCP-Chat",
          "TCP-Chat",
          "TCP-Chat",
          "TCP-Chat",
          "TCP-Chat",
          "TCP-Chat",
          "TCP-Chat",
          "TCP-Chat",
          "TCP-Chat",
          "TCP-Chat",
          "TCP-Chat",
          "TCP-Chat",
          "TCP-Chat",
          "TCP-Chat",
          "TCP-Chat",
          "TCP-Chat",
          "TCP-Chat",
          "TCP-Chat",
          "TCP-Chat",
          "TCP-Chat",
          "TCP-Chat",
          "TCP-Chat",
          "TCP-Chat",
          "TCP-Chat",
          "TCP-Chat",
          "TCP-Chat"
         ],
         "y0": " ",
         "yaxis": "y"
        },
        {
         "alignmentgroup": "True",
         "boxpoints": "all",
         "fillcolor": "rgba(255,255,255,0)",
         "hoveron": "points",
         "hovertemplate": "Repository=%{y}<br>Date=%{x}<extra></extra>",
         "legendgroup": "CUDA-Bitonic-Sort",
         "line": {
          "color": "rgba(255,255,255,0)"
         },
         "marker": {
          "color": "#FFA15A"
         },
         "name": "CUDA-Bitonic-Sort",
         "offsetgroup": "CUDA-Bitonic-Sort",
         "orientation": "v",
         "pointpos": 0,
         "showlegend": true,
         "type": "box",
         "x": [
          "2021-11-25T19:12:24+00:00",
          "2021-11-26T06:10:32+00:00",
          "2021-11-26T16:13:15+00:00",
          "2021-11-26T16:41:15+00:00",
          "2021-11-26T17:11:25+00:00",
          "2021-11-26T17:20:11+00:00",
          "2021-11-26T17:59:50+00:00"
         ],
         "x0": " ",
         "xaxis": "x",
         "y": [
          "CUDA-Bitonic-Sort",
          "CUDA-Bitonic-Sort",
          "CUDA-Bitonic-Sort",
          "CUDA-Bitonic-Sort",
          "CUDA-Bitonic-Sort",
          "CUDA-Bitonic-Sort",
          "CUDA-Bitonic-Sort"
         ],
         "y0": " ",
         "yaxis": "y"
        },
        {
         "alignmentgroup": "True",
         "boxpoints": "all",
         "fillcolor": "rgba(255,255,255,0)",
         "hoveron": "points",
         "hovertemplate": "Repository=%{y}<br>Date=%{x}<extra></extra>",
         "legendgroup": "twitgraph_npm",
         "line": {
          "color": "rgba(255,255,255,0)"
         },
         "marker": {
          "color": "#19d3f3"
         },
         "name": "twitgraph_npm",
         "offsetgroup": "twitgraph_npm",
         "orientation": "v",
         "pointpos": 0,
         "showlegend": true,
         "type": "box",
         "x": [
          "2021-12-06T14:44:43+00:00",
          "2021-12-06T14:53:45+00:00"
         ],
         "x0": " ",
         "xaxis": "x",
         "y": [
          "twitgraph_npm",
          "twitgraph_npm"
         ],
         "y0": " ",
         "yaxis": "y"
        },
        {
         "alignmentgroup": "True",
         "boxpoints": "all",
         "fillcolor": "rgba(255,255,255,0)",
         "hoveron": "points",
         "hovertemplate": "Repository=%{y}<br>Date=%{x}<extra></extra>",
         "legendgroup": "Prolog-Scripts",
         "line": {
          "color": "rgba(255,255,255,0)"
         },
         "marker": {
          "color": "#FF6692"
         },
         "name": "Prolog-Scripts",
         "offsetgroup": "Prolog-Scripts",
         "orientation": "v",
         "pointpos": 0,
         "showlegend": true,
         "type": "box",
         "x": [
          "2021-12-20T19:20:58+00:00",
          "2021-12-20T19:21:11+00:00",
          "2021-12-20T19:21:19+00:00",
          "2021-12-22T09:33:14+00:00",
          "2021-12-22T09:33:27+00:00",
          "2021-12-22T18:13:56+00:00"
         ],
         "x0": " ",
         "xaxis": "x",
         "y": [
          "Prolog-Scripts",
          "Prolog-Scripts",
          "Prolog-Scripts",
          "Prolog-Scripts",
          "Prolog-Scripts",
          "Prolog-Scripts"
         ],
         "y0": " ",
         "yaxis": "y"
        },
        {
         "alignmentgroup": "True",
         "boxpoints": "all",
         "fillcolor": "rgba(255,255,255,0)",
         "hoveron": "points",
         "hovertemplate": "Repository=%{y}<br>Date=%{x}<extra></extra>",
         "legendgroup": "Haskell-99-Problems",
         "line": {
          "color": "rgba(255,255,255,0)"
         },
         "marker": {
          "color": "#B6E880"
         },
         "name": "Haskell-99-Problems",
         "offsetgroup": "Haskell-99-Problems",
         "orientation": "v",
         "pointpos": 0,
         "showlegend": true,
         "type": "box",
         "x": [
          "2021-12-30T07:24:17+00:00",
          "2021-12-30T07:24:36+00:00",
          "2021-12-30T07:26:32+00:00",
          "2021-12-30T07:26:48+00:00",
          "2021-12-30T07:29:01+00:00",
          "2021-12-30T07:57:33+00:00",
          "2021-12-30T07:58:13+00:00",
          "2021-12-30T08:09:42+00:00",
          "2021-12-30T08:30:41+00:00",
          "2021-12-31T11:50:12+00:00"
         ],
         "x0": " ",
         "xaxis": "x",
         "y": [
          "Haskell-99-Problems",
          "Haskell-99-Problems",
          "Haskell-99-Problems",
          "Haskell-99-Problems",
          "Haskell-99-Problems",
          "Haskell-99-Problems",
          "Haskell-99-Problems",
          "Haskell-99-Problems",
          "Haskell-99-Problems",
          "Haskell-99-Problems"
         ],
         "y0": " ",
         "yaxis": "y"
        },
        {
         "alignmentgroup": "True",
         "boxpoints": "all",
         "fillcolor": "rgba(255,255,255,0)",
         "hoveron": "points",
         "hovertemplate": "Repository=%{y}<br>Date=%{x}<extra></extra>",
         "legendgroup": "Course-Ranking",
         "line": {
          "color": "rgba(255,255,255,0)"
         },
         "marker": {
          "color": "#FF97FF"
         },
         "name": "Course-Ranking",
         "offsetgroup": "Course-Ranking",
         "orientation": "v",
         "pointpos": 0,
         "showlegend": true,
         "type": "box",
         "x": [
          "2022-01-02T12:07:38+00:00",
          "2022-01-02T12:07:53+00:00",
          "2022-01-02T13:54:15+00:00",
          "2022-01-02T13:54:32+00:00",
          "2022-01-02T13:57:05+00:00",
          "2022-01-05T16:20:00+00:00",
          "2022-01-05T16:20:19+00:00",
          "2022-01-05T16:55:57+00:00",
          "2022-01-05T18:25:04+00:00",
          "2022-01-05T20:29:16+00:00",
          "2022-01-05T20:37:45+00:00",
          "2022-01-05T21:44:53+00:00",
          "2022-01-05T21:45:24+00:00",
          "2022-01-05T22:33:28+00:00",
          "2022-01-05T22:33:34+00:00",
          "2022-01-07T00:32:49+00:00",
          "2022-01-07T00:35:37+00:00",
          "2022-01-07T01:48:50+00:00",
          "2022-01-07T02:07:07+00:00",
          "2022-01-07T13:30:54+00:00",
          "2022-01-07T14:28:05+00:00",
          "2022-01-08T17:16:43+00:00",
          "2022-01-08T17:17:15+00:00",
          "2022-01-08T22:16:50+00:00",
          "2022-01-08T22:28:51+00:00",
          "2022-01-08T22:29:05+00:00",
          "2022-01-08T22:39:11+00:00",
          "2022-01-08T23:23:38+00:00",
          "2022-01-09T01:05:21+00:00",
          "2022-01-09T01:11:01+00:00",
          "2022-01-09T01:13:06+00:00",
          "2022-01-09T01:18:31+00:00",
          "2022-01-09T01:18:34+00:00",
          "2022-01-09T15:55:59+00:00",
          "2022-01-09T15:56:24+00:00",
          "2022-01-09T16:10:17+00:00",
          "2022-01-09T16:40:23+00:00",
          "2022-01-09T16:45:43+00:00",
          "2022-01-09T17:16:32+00:00",
          "2022-01-09T18:28:25+00:00",
          "2022-01-09T18:31:39+00:00"
         ],
         "x0": " ",
         "xaxis": "x",
         "y": [
          "Course-Ranking",
          "Course-Ranking",
          "Course-Ranking",
          "Course-Ranking",
          "Course-Ranking",
          "Course-Ranking",
          "Course-Ranking",
          "Course-Ranking",
          "Course-Ranking",
          "Course-Ranking",
          "Course-Ranking",
          "Course-Ranking",
          "Course-Ranking",
          "Course-Ranking",
          "Course-Ranking",
          "Course-Ranking",
          "Course-Ranking",
          "Course-Ranking",
          "Course-Ranking",
          "Course-Ranking",
          "Course-Ranking",
          "Course-Ranking",
          "Course-Ranking",
          "Course-Ranking",
          "Course-Ranking",
          "Course-Ranking",
          "Course-Ranking",
          "Course-Ranking",
          "Course-Ranking",
          "Course-Ranking",
          "Course-Ranking",
          "Course-Ranking",
          "Course-Ranking",
          "Course-Ranking",
          "Course-Ranking",
          "Course-Ranking",
          "Course-Ranking",
          "Course-Ranking",
          "Course-Ranking",
          "Course-Ranking",
          "Course-Ranking"
         ],
         "y0": " ",
         "yaxis": "y"
        },
        {
         "alignmentgroup": "True",
         "boxpoints": "all",
         "fillcolor": "rgba(255,255,255,0)",
         "hoveron": "points",
         "hovertemplate": "Repository=%{y}<br>Date=%{x}<extra></extra>",
         "legendgroup": "Matlab-Image-Processing",
         "line": {
          "color": "rgba(255,255,255,0)"
         },
         "marker": {
          "color": "#FECB52"
         },
         "name": "Matlab-Image-Processing",
         "offsetgroup": "Matlab-Image-Processing",
         "orientation": "v",
         "pointpos": 0,
         "showlegend": true,
         "type": "box",
         "x": [
          "2022-02-06T01:51:00+00:00",
          "2022-02-06T01:51:32+00:00",
          "2022-02-06T01:51:46+00:00",
          "2022-02-06T01:55:12+00:00",
          "2022-02-08T21:00:25+00:00",
          "2022-02-16T08:44:00+00:00",
          "2022-02-21T12:03:16+00:00",
          "2022-03-29T22:16:27+00:00",
          "2022-03-29T22:16:50+00:00",
          "2022-03-29T22:17:09+00:00"
         ],
         "x0": " ",
         "xaxis": "x",
         "y": [
          "Matlab-Image-Processing",
          "Matlab-Image-Processing",
          "Matlab-Image-Processing",
          "Matlab-Image-Processing",
          "Matlab-Image-Processing",
          "Matlab-Image-Processing",
          "Matlab-Image-Processing",
          "Matlab-Image-Processing",
          "Matlab-Image-Processing",
          "Matlab-Image-Processing"
         ],
         "y0": " ",
         "yaxis": "y"
        },
        {
         "alignmentgroup": "True",
         "boxpoints": "all",
         "fillcolor": "rgba(255,255,255,0)",
         "hoveron": "points",
         "hovertemplate": "Repository=%{y}<br>Date=%{x}<extra></extra>",
         "legendgroup": "BotSaheha",
         "line": {
          "color": "rgba(255,255,255,0)"
         },
         "marker": {
          "color": "#636efa"
         },
         "name": "BotSaheha",
         "offsetgroup": "BotSaheha",
         "orientation": "v",
         "pointpos": 0,
         "showlegend": true,
         "type": "box",
         "x": [
          "2022-02-07T01:55:27+00:00",
          "2022-02-07T01:55:27+00:00",
          "2022-02-07T02:14:57+00:00",
          "2022-02-07T02:14:57+00:00",
          "2022-02-07T16:20:34+00:00",
          "2022-02-07T16:20:34+00:00",
          "2022-02-07T16:24:51+00:00",
          "2022-02-07T16:24:51+00:00",
          "2022-02-07T16:25:49+00:00",
          "2022-02-07T16:25:49+00:00",
          "2022-02-08T00:14:59+00:00",
          "2022-02-08T00:14:59+00:00",
          "2022-02-08T00:24:58+00:00",
          "2022-02-08T00:24:58+00:00",
          "2022-02-08T00:29:13+00:00",
          "2022-02-08T00:29:13+00:00",
          "2022-02-08T00:33:12+00:00",
          "2022-02-08T00:33:12+00:00",
          "2022-02-08T00:39:33+00:00",
          "2022-02-08T00:39:33+00:00",
          "2022-02-08T00:59:06+00:00",
          "2022-02-08T00:59:06+00:00",
          "2022-02-08T01:41:09+00:00",
          "2022-02-08T01:41:09+00:00",
          "2022-02-08T01:42:54+00:00",
          "2022-02-08T01:42:54+00:00",
          "2022-02-08T02:19:16+00:00",
          "2022-02-08T02:19:16+00:00",
          "2022-02-08T11:23:38+00:00",
          "2022-02-08T11:23:38+00:00",
          "2022-02-08T11:57:52+00:00",
          "2022-02-08T11:57:52+00:00",
          "2022-02-08T12:29:14+00:00",
          "2022-02-08T12:29:14+00:00",
          "2022-02-08T16:06:44+00:00",
          "2022-02-08T16:06:44+00:00",
          "2022-02-08T16:11:30+00:00",
          "2022-02-08T16:11:30+00:00",
          "2022-02-08T17:18:50+00:00",
          "2022-02-08T17:18:50+00:00",
          "2022-02-08T18:00:29+00:00",
          "2022-02-08T18:00:29+00:00",
          "2022-02-08T18:07:48+00:00",
          "2022-02-08T18:07:48+00:00",
          "2022-02-08T18:13:17+00:00",
          "2022-02-08T18:13:17+00:00",
          "2022-02-08T18:33:12+00:00",
          "2022-02-08T18:33:12+00:00",
          "2022-02-08T18:39:00+00:00",
          "2022-02-08T18:39:00+00:00",
          "2022-02-08T18:47:05+00:00",
          "2022-02-08T18:47:05+00:00",
          "2022-02-09T12:16:03+00:00",
          "2022-02-09T12:16:27+00:00",
          "2022-02-09T12:19:29+00:00",
          "2022-02-11T00:25:13+00:00",
          "2022-02-11T01:03:23+00:00"
         ],
         "x0": " ",
         "xaxis": "x",
         "y": [
          "BotSaheha",
          "BotSaheha",
          "BotSaheha",
          "BotSaheha",
          "BotSaheha",
          "BotSaheha",
          "BotSaheha",
          "BotSaheha",
          "BotSaheha",
          "BotSaheha",
          "BotSaheha",
          "BotSaheha",
          "BotSaheha",
          "BotSaheha",
          "BotSaheha",
          "BotSaheha",
          "BotSaheha",
          "BotSaheha",
          "BotSaheha",
          "BotSaheha",
          "BotSaheha",
          "BotSaheha",
          "BotSaheha",
          "BotSaheha",
          "BotSaheha",
          "BotSaheha",
          "BotSaheha",
          "BotSaheha",
          "BotSaheha",
          "BotSaheha",
          "BotSaheha",
          "BotSaheha",
          "BotSaheha",
          "BotSaheha",
          "BotSaheha",
          "BotSaheha",
          "BotSaheha",
          "BotSaheha",
          "BotSaheha",
          "BotSaheha",
          "BotSaheha",
          "BotSaheha",
          "BotSaheha",
          "BotSaheha",
          "BotSaheha",
          "BotSaheha",
          "BotSaheha",
          "BotSaheha",
          "BotSaheha",
          "BotSaheha",
          "BotSaheha",
          "BotSaheha",
          "BotSaheha",
          "BotSaheha",
          "BotSaheha",
          "BotSaheha",
          "BotSaheha"
         ],
         "y0": " ",
         "yaxis": "y"
        },
        {
         "alignmentgroup": "True",
         "boxpoints": "all",
         "fillcolor": "rgba(255,255,255,0)",
         "hoveron": "points",
         "hovertemplate": "Repository=%{y}<br>Date=%{x}<extra></extra>",
         "legendgroup": "ftc-web",
         "line": {
          "color": "rgba(255,255,255,0)"
         },
         "marker": {
          "color": "#EF553B"
         },
         "name": "ftc-web",
         "offsetgroup": "ftc-web",
         "orientation": "v",
         "pointpos": 0,
         "showlegend": true,
         "type": "box",
         "x": [
          "2022-02-26T22:24:39+00:00",
          "2022-02-27T16:41:03+00:00",
          "2022-02-27T19:57:47+00:00",
          "2022-02-27T20:06:55+00:00",
          "2022-02-27T21:59:09+00:00",
          "2022-02-27T21:59:19+00:00",
          "2022-02-27T21:59:30+00:00",
          "2022-02-27T22:12:55+00:00",
          "2022-02-27T23:23:25+00:00",
          "2022-02-27T23:31:32+00:00",
          "2022-02-28T18:17:48+00:00"
         ],
         "x0": " ",
         "xaxis": "x",
         "y": [
          "ftc-web",
          "ftc-web",
          "ftc-web",
          "ftc-web",
          "ftc-web",
          "ftc-web",
          "ftc-web",
          "ftc-web",
          "ftc-web",
          "ftc-web",
          "ftc-web"
         ],
         "y0": " ",
         "yaxis": "y"
        },
        {
         "alignmentgroup": "True",
         "boxpoints": "all",
         "fillcolor": "rgba(255,255,255,0)",
         "hoveron": "points",
         "hovertemplate": "Repository=%{y}<br>Date=%{x}<extra></extra>",
         "legendgroup": "Rust-Learning",
         "line": {
          "color": "rgba(255,255,255,0)"
         },
         "marker": {
          "color": "#00cc96"
         },
         "name": "Rust-Learning",
         "offsetgroup": "Rust-Learning",
         "orientation": "v",
         "pointpos": 0,
         "showlegend": true,
         "type": "box",
         "x": [
          "2022-04-03T20:24:55+00:00",
          "2022-04-03T20:32:41+00:00",
          "2022-04-03T21:55:13+00:00",
          "2022-04-03T22:52:35+00:00",
          "2022-04-03T23:11:42+00:00",
          "2022-04-03T23:23:46+00:00",
          "2022-04-04T00:30:41+00:00",
          "2022-04-05T19:37:58+00:00",
          "2022-04-05T23:53:08+00:00",
          "2022-04-05T23:53:15+00:00"
         ],
         "x0": " ",
         "xaxis": "x",
         "y": [
          "Rust-Learning",
          "Rust-Learning",
          "Rust-Learning",
          "Rust-Learning",
          "Rust-Learning",
          "Rust-Learning",
          "Rust-Learning",
          "Rust-Learning",
          "Rust-Learning",
          "Rust-Learning"
         ],
         "y0": " ",
         "yaxis": "y"
        },
        {
         "alignmentgroup": "True",
         "boxpoints": "all",
         "fillcolor": "rgba(255,255,255,0)",
         "hoveron": "points",
         "hovertemplate": "Repository=%{y}<br>Date=%{x}<extra></extra>",
         "legendgroup": "Exam-Website",
         "line": {
          "color": "rgba(255,255,255,0)"
         },
         "marker": {
          "color": "#ab63fa"
         },
         "name": "Exam-Website",
         "offsetgroup": "Exam-Website",
         "orientation": "v",
         "pointpos": 0,
         "showlegend": true,
         "type": "box",
         "x": [
          "2022-04-06T01:04:09+00:00",
          "2022-04-06T15:12:25+00:00",
          "2022-04-06T15:12:31+00:00",
          "2022-04-06T15:12:46+00:00",
          "2022-04-18T05:55:22+00:00",
          "2022-04-18T08:12:16+00:00",
          "2022-04-18T08:12:25+00:00",
          "2022-04-18T08:12:37+00:00",
          "2022-04-18T08:12:42+00:00",
          "2022-04-18T08:13:10+00:00",
          "2022-04-18T08:14:13+00:00",
          "2022-04-18T08:16:21+00:00",
          "2022-04-18T09:52:22+00:00",
          "2022-04-18T13:17:16+00:00",
          "2022-04-18T13:29:40+00:00",
          "2022-04-18T13:29:45+00:00",
          "2022-04-20T08:53:26+00:00",
          "2022-04-20T09:06:38+00:00",
          "2022-04-20T09:09:10+00:00",
          "2022-04-20T09:09:39+00:00",
          "2022-04-20T09:09:58+00:00",
          "2022-04-20T09:56:13+00:00",
          "2022-04-20T09:56:29+00:00",
          "2022-04-20T09:56:38+00:00",
          "2022-04-20T09:57:26+00:00",
          "2022-04-24T10:54:36+00:00",
          "2022-04-24T11:46:45+00:00",
          "2022-04-24T12:38:14+00:00",
          "2022-04-24T20:04:04+00:00",
          "2022-04-25T09:59:40+00:00",
          "2022-04-28T21:45:41+00:00",
          "2022-04-29T22:17:12+00:00",
          "2022-05-06T06:02:44+00:00",
          "2022-05-06T06:35:14+00:00",
          "2022-05-06T06:35:21+00:00",
          "2022-05-13T03:02:15+00:00",
          "2022-05-13T03:02:20+00:00",
          "2022-05-13T03:09:17+00:00",
          "2022-05-13T04:01:36+00:00",
          "2022-05-13T04:03:36+00:00",
          "2022-05-14T06:24:23+00:00"
         ],
         "x0": " ",
         "xaxis": "x",
         "y": [
          "Exam-Website",
          "Exam-Website",
          "Exam-Website",
          "Exam-Website",
          "Exam-Website",
          "Exam-Website",
          "Exam-Website",
          "Exam-Website",
          "Exam-Website",
          "Exam-Website",
          "Exam-Website",
          "Exam-Website",
          "Exam-Website",
          "Exam-Website",
          "Exam-Website",
          "Exam-Website",
          "Exam-Website",
          "Exam-Website",
          "Exam-Website",
          "Exam-Website",
          "Exam-Website",
          "Exam-Website",
          "Exam-Website",
          "Exam-Website",
          "Exam-Website",
          "Exam-Website",
          "Exam-Website",
          "Exam-Website",
          "Exam-Website",
          "Exam-Website",
          "Exam-Website",
          "Exam-Website",
          "Exam-Website",
          "Exam-Website",
          "Exam-Website",
          "Exam-Website",
          "Exam-Website",
          "Exam-Website",
          "Exam-Website",
          "Exam-Website",
          "Exam-Website"
         ],
         "y0": " ",
         "yaxis": "y"
        },
        {
         "alignmentgroup": "True",
         "boxpoints": "all",
         "fillcolor": "rgba(255,255,255,0)",
         "hoveron": "points",
         "hovertemplate": "Repository=%{y}<br>Date=%{x}<extra></extra>",
         "legendgroup": "Exam-Backend",
         "line": {
          "color": "rgba(255,255,255,0)"
         },
         "marker": {
          "color": "#FFA15A"
         },
         "name": "Exam-Backend",
         "offsetgroup": "Exam-Backend",
         "orientation": "v",
         "pointpos": 0,
         "showlegend": true,
         "type": "box",
         "x": [
          "2022-04-06T23:36:38+00:00",
          "2022-04-07T13:09:38+00:00"
         ],
         "x0": " ",
         "xaxis": "x",
         "y": [
          "Exam-Backend",
          "Exam-Backend"
         ],
         "y0": " ",
         "yaxis": "y"
        },
        {
         "alignmentgroup": "True",
         "boxpoints": "all",
         "fillcolor": "rgba(255,255,255,0)",
         "hoveron": "points",
         "hovertemplate": "Repository=%{y}<br>Date=%{x}<extra></extra>",
         "legendgroup": "Exam-Project-Backend",
         "line": {
          "color": "rgba(255,255,255,0)"
         },
         "marker": {
          "color": "#19d3f3"
         },
         "name": "Exam-Project-Backend",
         "offsetgroup": "Exam-Project-Backend",
         "orientation": "v",
         "pointpos": 0,
         "showlegend": true,
         "type": "box",
         "x": [
          "2022-04-08T18:38:27+00:00",
          "2022-04-08T18:40:17+00:00",
          "2022-04-08T22:26:53+00:00",
          "2022-04-08T22:27:42+00:00",
          "2022-04-08T22:28:13+00:00",
          "2022-04-08T22:28:49+00:00",
          "2022-04-08T22:28:56+00:00",
          "2022-04-10T03:05:19+00:00",
          "2022-04-10T03:06:12+00:00",
          "2022-04-10T03:06:25+00:00",
          "2022-04-10T03:10:27+00:00",
          "2022-04-10T03:10:45+00:00",
          "2022-04-10T03:11:07+00:00",
          "2022-04-10T14:55:25+00:00",
          "2022-04-10T15:12:22+00:00",
          "2022-04-10T16:47:26+00:00",
          "2022-04-10T17:00:22+00:00",
          "2022-04-11T01:28:08+00:00",
          "2022-04-11T01:28:17+00:00",
          "2022-04-11T06:38:44+00:00",
          "2022-04-12T21:52:51+00:00",
          "2022-04-12T22:48:51+00:00",
          "2022-04-12T22:53:40+00:00",
          "2022-04-16T02:33:49+00:00",
          "2022-04-16T02:34:24+00:00",
          "2022-04-16T02:47:06+00:00",
          "2022-04-16T04:49:19+00:00",
          "2022-04-16T04:49:35+00:00",
          "2022-04-16T05:54:25+00:00",
          "2022-04-16T05:59:55+00:00",
          "2022-04-16T06:28:46+00:00",
          "2022-04-16T06:29:07+00:00",
          "2022-04-16T06:29:55+00:00",
          "2022-04-16T06:30:55+00:00",
          "2022-04-16T06:41:04+00:00",
          "2022-04-16T07:09:09+00:00",
          "2022-04-16T07:14:19+00:00",
          "2022-04-16T07:23:55+00:00",
          "2022-04-16T07:24:32+00:00",
          "2022-04-16T08:17:29+00:00",
          "2022-04-16T08:17:50+00:00",
          "2022-04-16T08:30:53+00:00",
          "2022-04-16T08:45:16+00:00",
          "2022-04-16T08:45:25+00:00",
          "2022-04-16T08:48:04+00:00",
          "2022-04-16T08:56:47+00:00",
          "2022-04-16T09:09:57+00:00",
          "2022-04-16T09:19:22+00:00",
          "2022-04-16T09:25:07+00:00",
          "2022-04-18T07:47:56+00:00",
          "2022-04-18T08:01:20+00:00",
          "2022-04-18T08:01:43+00:00",
          "2022-04-18T08:11:17+00:00",
          "2022-04-18T09:57:40+00:00",
          "2022-04-18T10:14:23+00:00",
          "2022-04-18T10:18:17+00:00",
          "2022-04-24T11:20:32+00:00",
          "2022-04-28T21:23:48+00:00",
          "2022-04-28T21:23:58+00:00",
          "2022-04-28T21:24:36+00:00",
          "2022-04-29T20:25:13+00:00",
          "2022-05-06T06:21:04+00:00",
          "2022-05-06T06:22:31+00:00",
          "2022-05-09T23:25:49+00:00",
          "2022-05-09T23:32:27+00:00",
          "2022-05-10T00:16:01+00:00",
          "2022-05-11T08:02:38+00:00",
          "2022-05-12T02:27:41+00:00",
          "2022-05-13T02:22:13+00:00",
          "2022-05-13T02:53:06+00:00",
          "2022-05-13T03:06:16+00:00",
          "2022-05-13T03:19:15+00:00",
          "2022-05-13T03:21:52+00:00",
          "2022-05-13T03:44:16+00:00"
         ],
         "x0": " ",
         "xaxis": "x",
         "y": [
          "Exam-Project-Backend",
          "Exam-Project-Backend",
          "Exam-Project-Backend",
          "Exam-Project-Backend",
          "Exam-Project-Backend",
          "Exam-Project-Backend",
          "Exam-Project-Backend",
          "Exam-Project-Backend",
          "Exam-Project-Backend",
          "Exam-Project-Backend",
          "Exam-Project-Backend",
          "Exam-Project-Backend",
          "Exam-Project-Backend",
          "Exam-Project-Backend",
          "Exam-Project-Backend",
          "Exam-Project-Backend",
          "Exam-Project-Backend",
          "Exam-Project-Backend",
          "Exam-Project-Backend",
          "Exam-Project-Backend",
          "Exam-Project-Backend",
          "Exam-Project-Backend",
          "Exam-Project-Backend",
          "Exam-Project-Backend",
          "Exam-Project-Backend",
          "Exam-Project-Backend",
          "Exam-Project-Backend",
          "Exam-Project-Backend",
          "Exam-Project-Backend",
          "Exam-Project-Backend",
          "Exam-Project-Backend",
          "Exam-Project-Backend",
          "Exam-Project-Backend",
          "Exam-Project-Backend",
          "Exam-Project-Backend",
          "Exam-Project-Backend",
          "Exam-Project-Backend",
          "Exam-Project-Backend",
          "Exam-Project-Backend",
          "Exam-Project-Backend",
          "Exam-Project-Backend",
          "Exam-Project-Backend",
          "Exam-Project-Backend",
          "Exam-Project-Backend",
          "Exam-Project-Backend",
          "Exam-Project-Backend",
          "Exam-Project-Backend",
          "Exam-Project-Backend",
          "Exam-Project-Backend",
          "Exam-Project-Backend",
          "Exam-Project-Backend",
          "Exam-Project-Backend",
          "Exam-Project-Backend",
          "Exam-Project-Backend",
          "Exam-Project-Backend",
          "Exam-Project-Backend",
          "Exam-Project-Backend",
          "Exam-Project-Backend",
          "Exam-Project-Backend",
          "Exam-Project-Backend",
          "Exam-Project-Backend",
          "Exam-Project-Backend",
          "Exam-Project-Backend",
          "Exam-Project-Backend",
          "Exam-Project-Backend",
          "Exam-Project-Backend",
          "Exam-Project-Backend",
          "Exam-Project-Backend",
          "Exam-Project-Backend",
          "Exam-Project-Backend",
          "Exam-Project-Backend",
          "Exam-Project-Backend",
          "Exam-Project-Backend",
          "Exam-Project-Backend"
         ],
         "y0": " ",
         "yaxis": "y"
        },
        {
         "alignmentgroup": "True",
         "boxpoints": "all",
         "fillcolor": "rgba(255,255,255,0)",
         "hoveron": "points",
         "hovertemplate": "Repository=%{y}<br>Date=%{x}<extra></extra>",
         "legendgroup": "Experience-Survey",
         "line": {
          "color": "rgba(255,255,255,0)"
         },
         "marker": {
          "color": "#FF6692"
         },
         "name": "Experience-Survey",
         "offsetgroup": "Experience-Survey",
         "orientation": "v",
         "pointpos": 0,
         "showlegend": true,
         "type": "box",
         "x": [
          "2022-05-07T08:32:14+00:00",
          "2022-05-07T08:32:25+00:00",
          "2022-05-07T08:32:45+00:00",
          "2022-05-07T14:47:10+00:00",
          "2022-05-14T14:39:52+00:00",
          "2022-05-15T15:25:30+00:00",
          "2022-05-15T15:30:18+00:00",
          "2022-05-15T16:02:46+00:00",
          "2022-05-16T13:46:40+00:00",
          "2022-05-16T13:47:04+00:00",
          "2022-05-16T14:18:45+00:00",
          "2022-05-16T14:20:24+00:00",
          "2022-05-17T11:58:43+00:00",
          "2022-05-17T11:59:05+00:00",
          "2022-05-17T15:28:22+00:00",
          "2022-05-21T15:13:35+00:00"
         ],
         "x0": " ",
         "xaxis": "x",
         "y": [
          "Experience-Survey",
          "Experience-Survey",
          "Experience-Survey",
          "Experience-Survey",
          "Experience-Survey",
          "Experience-Survey",
          "Experience-Survey",
          "Experience-Survey",
          "Experience-Survey",
          "Experience-Survey",
          "Experience-Survey",
          "Experience-Survey",
          "Experience-Survey",
          "Experience-Survey",
          "Experience-Survey",
          "Experience-Survey"
         ],
         "y0": " ",
         "yaxis": "y"
        },
        {
         "alignmentgroup": "True",
         "boxpoints": "all",
         "fillcolor": "rgba(255,255,255,0)",
         "hoveron": "points",
         "hovertemplate": "Repository=%{y}<br>Date=%{x}<extra></extra>",
         "legendgroup": "Degree-Review",
         "line": {
          "color": "rgba(255,255,255,0)"
         },
         "marker": {
          "color": "#B6E880"
         },
         "name": "Degree-Review",
         "offsetgroup": "Degree-Review",
         "orientation": "v",
         "pointpos": 0,
         "showlegend": true,
         "type": "box",
         "x": [
          "2022-06-01T06:35:05+00:00",
          "2022-06-01T06:35:11+00:00",
          "2022-06-01T07:40:02+00:00",
          "2022-06-01T07:40:29+00:00",
          "2022-06-01T07:40:39+00:00",
          "2022-06-01T07:55:39+00:00",
          "2022-06-01T08:10:55+00:00"
         ],
         "x0": " ",
         "xaxis": "x",
         "y": [
          "Degree-Review",
          "Degree-Review",
          "Degree-Review",
          "Degree-Review",
          "Degree-Review",
          "Degree-Review",
          "Degree-Review"
         ],
         "y0": " ",
         "yaxis": "y"
        }
       ],
       "layout": {
        "boxmode": "group",
        "height": 1000,
        "legend": {
         "title": {
          "text": "Repository"
         },
         "tracegroupgap": 0
        },
        "margin": {
         "t": 60
        },
        "template": {
         "data": {
          "bar": [
           {
            "error_x": {
             "color": "#f2f5fa"
            },
            "error_y": {
             "color": "#f2f5fa"
            },
            "marker": {
             "line": {
              "color": "rgb(17,17,17)",
              "width": 0.5
             },
             "pattern": {
              "fillmode": "overlay",
              "size": 10,
              "solidity": 0.2
             }
            },
            "type": "bar"
           }
          ],
          "barpolar": [
           {
            "marker": {
             "line": {
              "color": "rgb(17,17,17)",
              "width": 0.5
             },
             "pattern": {
              "fillmode": "overlay",
              "size": 10,
              "solidity": 0.2
             }
            },
            "type": "barpolar"
           }
          ],
          "carpet": [
           {
            "aaxis": {
             "endlinecolor": "#A2B1C6",
             "gridcolor": "#506784",
             "linecolor": "#506784",
             "minorgridcolor": "#506784",
             "startlinecolor": "#A2B1C6"
            },
            "baxis": {
             "endlinecolor": "#A2B1C6",
             "gridcolor": "#506784",
             "linecolor": "#506784",
             "minorgridcolor": "#506784",
             "startlinecolor": "#A2B1C6"
            },
            "type": "carpet"
           }
          ],
          "choropleth": [
           {
            "colorbar": {
             "outlinewidth": 0,
             "ticks": ""
            },
            "type": "choropleth"
           }
          ],
          "contour": [
           {
            "colorbar": {
             "outlinewidth": 0,
             "ticks": ""
            },
            "colorscale": [
             [
              0,
              "#0d0887"
             ],
             [
              0.1111111111111111,
              "#46039f"
             ],
             [
              0.2222222222222222,
              "#7201a8"
             ],
             [
              0.3333333333333333,
              "#9c179e"
             ],
             [
              0.4444444444444444,
              "#bd3786"
             ],
             [
              0.5555555555555556,
              "#d8576b"
             ],
             [
              0.6666666666666666,
              "#ed7953"
             ],
             [
              0.7777777777777778,
              "#fb9f3a"
             ],
             [
              0.8888888888888888,
              "#fdca26"
             ],
             [
              1,
              "#f0f921"
             ]
            ],
            "type": "contour"
           }
          ],
          "contourcarpet": [
           {
            "colorbar": {
             "outlinewidth": 0,
             "ticks": ""
            },
            "type": "contourcarpet"
           }
          ],
          "heatmap": [
           {
            "colorbar": {
             "outlinewidth": 0,
             "ticks": ""
            },
            "colorscale": [
             [
              0,
              "#0d0887"
             ],
             [
              0.1111111111111111,
              "#46039f"
             ],
             [
              0.2222222222222222,
              "#7201a8"
             ],
             [
              0.3333333333333333,
              "#9c179e"
             ],
             [
              0.4444444444444444,
              "#bd3786"
             ],
             [
              0.5555555555555556,
              "#d8576b"
             ],
             [
              0.6666666666666666,
              "#ed7953"
             ],
             [
              0.7777777777777778,
              "#fb9f3a"
             ],
             [
              0.8888888888888888,
              "#fdca26"
             ],
             [
              1,
              "#f0f921"
             ]
            ],
            "type": "heatmap"
           }
          ],
          "heatmapgl": [
           {
            "colorbar": {
             "outlinewidth": 0,
             "ticks": ""
            },
            "colorscale": [
             [
              0,
              "#0d0887"
             ],
             [
              0.1111111111111111,
              "#46039f"
             ],
             [
              0.2222222222222222,
              "#7201a8"
             ],
             [
              0.3333333333333333,
              "#9c179e"
             ],
             [
              0.4444444444444444,
              "#bd3786"
             ],
             [
              0.5555555555555556,
              "#d8576b"
             ],
             [
              0.6666666666666666,
              "#ed7953"
             ],
             [
              0.7777777777777778,
              "#fb9f3a"
             ],
             [
              0.8888888888888888,
              "#fdca26"
             ],
             [
              1,
              "#f0f921"
             ]
            ],
            "type": "heatmapgl"
           }
          ],
          "histogram": [
           {
            "marker": {
             "pattern": {
              "fillmode": "overlay",
              "size": 10,
              "solidity": 0.2
             }
            },
            "type": "histogram"
           }
          ],
          "histogram2d": [
           {
            "colorbar": {
             "outlinewidth": 0,
             "ticks": ""
            },
            "colorscale": [
             [
              0,
              "#0d0887"
             ],
             [
              0.1111111111111111,
              "#46039f"
             ],
             [
              0.2222222222222222,
              "#7201a8"
             ],
             [
              0.3333333333333333,
              "#9c179e"
             ],
             [
              0.4444444444444444,
              "#bd3786"
             ],
             [
              0.5555555555555556,
              "#d8576b"
             ],
             [
              0.6666666666666666,
              "#ed7953"
             ],
             [
              0.7777777777777778,
              "#fb9f3a"
             ],
             [
              0.8888888888888888,
              "#fdca26"
             ],
             [
              1,
              "#f0f921"
             ]
            ],
            "type": "histogram2d"
           }
          ],
          "histogram2dcontour": [
           {
            "colorbar": {
             "outlinewidth": 0,
             "ticks": ""
            },
            "colorscale": [
             [
              0,
              "#0d0887"
             ],
             [
              0.1111111111111111,
              "#46039f"
             ],
             [
              0.2222222222222222,
              "#7201a8"
             ],
             [
              0.3333333333333333,
              "#9c179e"
             ],
             [
              0.4444444444444444,
              "#bd3786"
             ],
             [
              0.5555555555555556,
              "#d8576b"
             ],
             [
              0.6666666666666666,
              "#ed7953"
             ],
             [
              0.7777777777777778,
              "#fb9f3a"
             ],
             [
              0.8888888888888888,
              "#fdca26"
             ],
             [
              1,
              "#f0f921"
             ]
            ],
            "type": "histogram2dcontour"
           }
          ],
          "mesh3d": [
           {
            "colorbar": {
             "outlinewidth": 0,
             "ticks": ""
            },
            "type": "mesh3d"
           }
          ],
          "parcoords": [
           {
            "line": {
             "colorbar": {
              "outlinewidth": 0,
              "ticks": ""
             }
            },
            "type": "parcoords"
           }
          ],
          "pie": [
           {
            "automargin": true,
            "type": "pie"
           }
          ],
          "scatter": [
           {
            "marker": {
             "line": {
              "color": "#283442"
             }
            },
            "type": "scatter"
           }
          ],
          "scatter3d": [
           {
            "line": {
             "colorbar": {
              "outlinewidth": 0,
              "ticks": ""
             }
            },
            "marker": {
             "colorbar": {
              "outlinewidth": 0,
              "ticks": ""
             }
            },
            "type": "scatter3d"
           }
          ],
          "scattercarpet": [
           {
            "marker": {
             "colorbar": {
              "outlinewidth": 0,
              "ticks": ""
             }
            },
            "type": "scattercarpet"
           }
          ],
          "scattergeo": [
           {
            "marker": {
             "colorbar": {
              "outlinewidth": 0,
              "ticks": ""
             }
            },
            "type": "scattergeo"
           }
          ],
          "scattergl": [
           {
            "marker": {
             "line": {
              "color": "#283442"
             }
            },
            "type": "scattergl"
           }
          ],
          "scattermapbox": [
           {
            "marker": {
             "colorbar": {
              "outlinewidth": 0,
              "ticks": ""
             }
            },
            "type": "scattermapbox"
           }
          ],
          "scatterpolar": [
           {
            "marker": {
             "colorbar": {
              "outlinewidth": 0,
              "ticks": ""
             }
            },
            "type": "scatterpolar"
           }
          ],
          "scatterpolargl": [
           {
            "marker": {
             "colorbar": {
              "outlinewidth": 0,
              "ticks": ""
             }
            },
            "type": "scatterpolargl"
           }
          ],
          "scatterternary": [
           {
            "marker": {
             "colorbar": {
              "outlinewidth": 0,
              "ticks": ""
             }
            },
            "type": "scatterternary"
           }
          ],
          "surface": [
           {
            "colorbar": {
             "outlinewidth": 0,
             "ticks": ""
            },
            "colorscale": [
             [
              0,
              "#0d0887"
             ],
             [
              0.1111111111111111,
              "#46039f"
             ],
             [
              0.2222222222222222,
              "#7201a8"
             ],
             [
              0.3333333333333333,
              "#9c179e"
             ],
             [
              0.4444444444444444,
              "#bd3786"
             ],
             [
              0.5555555555555556,
              "#d8576b"
             ],
             [
              0.6666666666666666,
              "#ed7953"
             ],
             [
              0.7777777777777778,
              "#fb9f3a"
             ],
             [
              0.8888888888888888,
              "#fdca26"
             ],
             [
              1,
              "#f0f921"
             ]
            ],
            "type": "surface"
           }
          ],
          "table": [
           {
            "cells": {
             "fill": {
              "color": "#506784"
             },
             "line": {
              "color": "rgb(17,17,17)"
             }
            },
            "header": {
             "fill": {
              "color": "#2a3f5f"
             },
             "line": {
              "color": "rgb(17,17,17)"
             }
            },
            "type": "table"
           }
          ]
         },
         "layout": {
          "annotationdefaults": {
           "arrowcolor": "#f2f5fa",
           "arrowhead": 0,
           "arrowwidth": 1
          },
          "autotypenumbers": "strict",
          "coloraxis": {
           "colorbar": {
            "outlinewidth": 0,
            "ticks": ""
           }
          },
          "colorscale": {
           "diverging": [
            [
             0,
             "#8e0152"
            ],
            [
             0.1,
             "#c51b7d"
            ],
            [
             0.2,
             "#de77ae"
            ],
            [
             0.3,
             "#f1b6da"
            ],
            [
             0.4,
             "#fde0ef"
            ],
            [
             0.5,
             "#f7f7f7"
            ],
            [
             0.6,
             "#e6f5d0"
            ],
            [
             0.7,
             "#b8e186"
            ],
            [
             0.8,
             "#7fbc41"
            ],
            [
             0.9,
             "#4d9221"
            ],
            [
             1,
             "#276419"
            ]
           ],
           "sequential": [
            [
             0,
             "#0d0887"
            ],
            [
             0.1111111111111111,
             "#46039f"
            ],
            [
             0.2222222222222222,
             "#7201a8"
            ],
            [
             0.3333333333333333,
             "#9c179e"
            ],
            [
             0.4444444444444444,
             "#bd3786"
            ],
            [
             0.5555555555555556,
             "#d8576b"
            ],
            [
             0.6666666666666666,
             "#ed7953"
            ],
            [
             0.7777777777777778,
             "#fb9f3a"
            ],
            [
             0.8888888888888888,
             "#fdca26"
            ],
            [
             1,
             "#f0f921"
            ]
           ],
           "sequentialminus": [
            [
             0,
             "#0d0887"
            ],
            [
             0.1111111111111111,
             "#46039f"
            ],
            [
             0.2222222222222222,
             "#7201a8"
            ],
            [
             0.3333333333333333,
             "#9c179e"
            ],
            [
             0.4444444444444444,
             "#bd3786"
            ],
            [
             0.5555555555555556,
             "#d8576b"
            ],
            [
             0.6666666666666666,
             "#ed7953"
            ],
            [
             0.7777777777777778,
             "#fb9f3a"
            ],
            [
             0.8888888888888888,
             "#fdca26"
            ],
            [
             1,
             "#f0f921"
            ]
           ]
          },
          "colorway": [
           "#636efa",
           "#EF553B",
           "#00cc96",
           "#ab63fa",
           "#FFA15A",
           "#19d3f3",
           "#FF6692",
           "#B6E880",
           "#FF97FF",
           "#FECB52"
          ],
          "font": {
           "color": "#f2f5fa"
          },
          "geo": {
           "bgcolor": "rgb(17,17,17)",
           "lakecolor": "rgb(17,17,17)",
           "landcolor": "rgb(17,17,17)",
           "showlakes": true,
           "showland": true,
           "subunitcolor": "#506784"
          },
          "hoverlabel": {
           "align": "left"
          },
          "hovermode": "closest",
          "mapbox": {
           "style": "dark"
          },
          "paper_bgcolor": "rgb(17,17,17)",
          "plot_bgcolor": "rgb(17,17,17)",
          "polar": {
           "angularaxis": {
            "gridcolor": "#506784",
            "linecolor": "#506784",
            "ticks": ""
           },
           "bgcolor": "rgb(17,17,17)",
           "radialaxis": {
            "gridcolor": "#506784",
            "linecolor": "#506784",
            "ticks": ""
           }
          },
          "scene": {
           "xaxis": {
            "backgroundcolor": "rgb(17,17,17)",
            "gridcolor": "#506784",
            "gridwidth": 2,
            "linecolor": "#506784",
            "showbackground": true,
            "ticks": "",
            "zerolinecolor": "#C8D4E3"
           },
           "yaxis": {
            "backgroundcolor": "rgb(17,17,17)",
            "gridcolor": "#506784",
            "gridwidth": 2,
            "linecolor": "#506784",
            "showbackground": true,
            "ticks": "",
            "zerolinecolor": "#C8D4E3"
           },
           "zaxis": {
            "backgroundcolor": "rgb(17,17,17)",
            "gridcolor": "#506784",
            "gridwidth": 2,
            "linecolor": "#506784",
            "showbackground": true,
            "ticks": "",
            "zerolinecolor": "#C8D4E3"
           }
          },
          "shapedefaults": {
           "line": {
            "color": "#f2f5fa"
           }
          },
          "sliderdefaults": {
           "bgcolor": "#C8D4E3",
           "bordercolor": "rgb(17,17,17)",
           "borderwidth": 1,
           "tickwidth": 0
          },
          "ternary": {
           "aaxis": {
            "gridcolor": "#506784",
            "linecolor": "#506784",
            "ticks": ""
           },
           "baxis": {
            "gridcolor": "#506784",
            "linecolor": "#506784",
            "ticks": ""
           },
           "bgcolor": "rgb(17,17,17)",
           "caxis": {
            "gridcolor": "#506784",
            "linecolor": "#506784",
            "ticks": ""
           }
          },
          "title": {
           "x": 0.05
          },
          "updatemenudefaults": {
           "bgcolor": "#506784",
           "borderwidth": 0
          },
          "xaxis": {
           "automargin": true,
           "gridcolor": "#283442",
           "linecolor": "#506784",
           "ticks": "",
           "title": {
            "standoff": 15
           },
           "zerolinecolor": "#283442",
           "zerolinewidth": 2
          },
          "yaxis": {
           "automargin": true,
           "gridcolor": "#283442",
           "linecolor": "#506784",
           "ticks": "",
           "title": {
            "standoff": 15
           },
           "zerolinecolor": "#283442",
           "zerolinewidth": 2
          }
         }
        },
        "width": 1300,
        "xaxis": {
         "anchor": "y",
         "domain": [
          0,
          1
         ],
         "title": {
          "text": "Date"
         }
        },
        "yaxis": {
         "anchor": "x",
         "categoryarray": [
          "Degree-Review",
          "Experience-Survey",
          "Exam-Project-Backend",
          "Exam-Backend",
          "Exam-Website",
          "Rust-Learning",
          "ftc-web",
          "BotSaheha",
          "Matlab-Image-Processing",
          "Course-Ranking",
          "Haskell-99-Problems",
          "Prolog-Scripts",
          "twitgraph_npm",
          "CUDA-Bitonic-Sort",
          "TCP-Chat",
          "BitDictor",
          "Dialect-Graduation-Project-Fullstack",
          "Dialect-Graduation-Project",
          "Cyclegan-Arabic-Font",
          "Arabic-Font-Detector",
          "dialect-predictor",
          "Website_Frontend",
          "Website",
          "whatboard-standalone",
          "Bridge-And-Torch-Problem",
          "Othello-Agents",
          "Grades-Animator",
          "Whatboard",
          "dashboard",
          "Photo-Management-Application",
          "Stock-Exchange-Database",
          "Extended-Chinese-Remainder-Theorem",
          "Twitgraph",
          "Self-study",
          "Problems",
          "Experiments",
          "Prayer-Time-displacment",
          "Phonetics-Puzzle"
         ],
         "categoryorder": "array",
         "domain": [
          0,
          1
         ],
         "title": {
          "text": "Repository"
         }
        }
       }
      }
     },
     "metadata": {},
     "output_type": "display_data"
    }
   ],
   "source": [
    "px.strip(commits, x=\"Date\", y=\"Repository\", color=\"Repository\", height=1000, width=1300) "
   ]
  },
  {
   "cell_type": "code",
   "execution_count": 273,
   "metadata": {},
   "outputs": [
    {
     "data": {
      "application/vnd.plotly.v1+json": {
       "config": {
        "plotlyServerURL": "https://plot.ly"
       },
       "data": [
        {
         "alignmentgroup": "True",
         "hovertemplate": "صنف المقرر=إنسانيات<br>count=%{x}<br>التقدير=%{y}<br>اسم المقرر=%{text}<extra></extra>",
         "legendgroup": "إنسانيات",
         "marker": {
          "color": "#636efa",
          "pattern": {
           "shape": ""
          }
         },
         "name": "إنسانيات",
         "offsetgroup": "إنسانيات",
         "orientation": "h",
         "showlegend": true,
         "text": [
          "ريادة الأعمال",
          "اللغة الإنجليزية",
          "مهارات الكتابة.",
          "مهارات جامعية",
          "لغة إنجليزية تخصصية",
          "اللياقة والثقافة الصحية"
         ],
         "textposition": "auto",
         "type": "bar",
         "x": [
          1,
          1,
          1,
          1,
          1,
          1
         ],
         "xaxis": "x",
         "y": [
          "أ",
          "أ+",
          "ب+",
          "أ+",
          "أ+",
          "أ"
         ],
         "yaxis": "y"
        },
        {
         "alignmentgroup": "True",
         "hovertemplate": "صنف المقرر=رياضيات<br>count=%{x}<br>التقدير=%{y}<br>اسم المقرر=%{text}<extra></extra>",
         "legendgroup": "رياضيات",
         "marker": {
          "color": "#EF553B",
          "pattern": {
           "shape": ""
          }
         },
         "name": "رياضيات",
         "offsetgroup": "رياضيات",
         "orientation": "h",
         "showlegend": true,
         "text": [
          "مدخل الى الاحتمالات والإحصاء",
          "حساب التفاضل",
          "الرياضيات المحددة",
          "حساب التكامل",
          "الجبر الخطي"
         ],
         "textposition": "auto",
         "type": "bar",
         "x": [
          1,
          1,
          1,
          1,
          1
         ],
         "xaxis": "x",
         "y": [
          "أ",
          "أ+",
          "أ+",
          "أ+",
          "ند"
         ],
         "yaxis": "y"
        },
        {
         "alignmentgroup": "True",
         "hovertemplate": "صنف المقرر=علوم<br>count=%{x}<br>التقدير=%{y}<br>اسم المقرر=%{text}<extra></extra>",
         "legendgroup": "علوم",
         "marker": {
          "color": "#00cc96",
          "pattern": {
           "shape": ""
          }
         },
         "name": "علوم",
         "offsetgroup": "علوم",
         "orientation": "h",
         "showlegend": true,
         "text": [
          "كيمياء عامة (1)",
          "مهارات الحاسب",
          "فيزياء عامة (1)",
          "فيزياء عامه (2)"
         ],
         "textposition": "auto",
         "type": "bar",
         "x": [
          1,
          1,
          1,
          1
         ],
         "xaxis": "x",
         "y": [
          "ب+",
          "أ+",
          "أ+",
          "ند"
         ],
         "yaxis": "y"
        },
        {
         "alignmentgroup": "True",
         "hovertemplate": "صنف المقرر=علوم حاسب<br>count=%{x}<br>التقدير=%{y}<br>اسم المقرر=%{text}<extra></extra>",
         "legendgroup": "علوم حاسب",
         "marker": {
          "color": "#ab63fa",
          "pattern": {
           "shape": ""
          }
         },
         "name": "علوم حاسب",
         "offsetgroup": "علوم حاسب",
         "orientation": "h",
         "showlegend": true,
         "text": [
          "برمجة حاسبات (1)",
          "تنظيم الحاسبات",
          "برمجة حاسبات -2-",
          "تراكيب البيانات",
          "اخلاقيات الحوسبة وطرق البحث",
          "البرمجة الإجرائية بلغة \"C\"",
          "الرياضيات المتقطعة لعلوم الحاسب",
          "اسس نظم قواعد البيانات",
          "الذكاء الاصطناعي",
          "تصميم وتحليل الخوارزميات",
          "تحليل وتصميم الأنظمة",
          "نظرية الحوسبة",
          "نظم التشغيل",
          "ادارة مشاريع البرمجيات وتقينة المعلومات",
          "لغات البرمجة والترجمة",
          "المعالجة المتوازيه",
          "تعليم الآلة",
          "مشروع تخرج -1-",
          "شبكات الحاسبات"
         ],
         "textposition": "auto",
         "type": "bar",
         "x": [
          1,
          1,
          1,
          1,
          1,
          1,
          1,
          1,
          1,
          1,
          1,
          1,
          1,
          1,
          1,
          1,
          1,
          1,
          1
         ],
         "xaxis": "x",
         "y": [
          "أ+",
          "ند",
          "أ+",
          "أ",
          "أ+",
          "أ+",
          "أ+",
          "ب+",
          "أ+",
          "أ+",
          "ب+",
          "أ+",
          "أ+",
          "أ",
          "أ",
          "ب+",
          "أ+",
          "أ+",
          "أ+"
         ],
         "yaxis": "y"
        },
        {
         "alignmentgroup": "True",
         "hovertemplate": "صنف المقرر=سلم<br>count=%{x}<br>التقدير=%{y}<br>اسم المقرر=%{text}<extra></extra>",
         "legendgroup": "سلم",
         "marker": {
          "color": "#FFA15A",
          "pattern": {
           "shape": ""
          }
         },
         "name": "سلم",
         "offsetgroup": "سلم",
         "orientation": "h",
         "showlegend": true,
         "text": [
          "أصول الثقافة الإسلامية",
          "اخلاقيات المهنة",
          "قضايا معاصرة",
          "الأسرة في الإسلام"
         ],
         "textposition": "auto",
         "type": "bar",
         "x": [
          1,
          1,
          1,
          1
         ],
         "xaxis": "x",
         "y": [
          "أ",
          "أ+",
          "ب+",
          "أ+"
         ],
         "yaxis": "y"
        }
       ],
       "layout": {
        "barmode": "relative",
        "legend": {
         "title": {
          "text": "صنف المقرر"
         },
         "tracegroupgap": 0
        },
        "margin": {
         "t": 60
        },
        "template": {
         "data": {
          "bar": [
           {
            "error_x": {
             "color": "#f2f5fa"
            },
            "error_y": {
             "color": "#f2f5fa"
            },
            "marker": {
             "line": {
              "color": "rgb(17,17,17)",
              "width": 0.5
             },
             "pattern": {
              "fillmode": "overlay",
              "size": 10,
              "solidity": 0.2
             }
            },
            "type": "bar"
           }
          ],
          "barpolar": [
           {
            "marker": {
             "line": {
              "color": "rgb(17,17,17)",
              "width": 0.5
             },
             "pattern": {
              "fillmode": "overlay",
              "size": 10,
              "solidity": 0.2
             }
            },
            "type": "barpolar"
           }
          ],
          "carpet": [
           {
            "aaxis": {
             "endlinecolor": "#A2B1C6",
             "gridcolor": "#506784",
             "linecolor": "#506784",
             "minorgridcolor": "#506784",
             "startlinecolor": "#A2B1C6"
            },
            "baxis": {
             "endlinecolor": "#A2B1C6",
             "gridcolor": "#506784",
             "linecolor": "#506784",
             "minorgridcolor": "#506784",
             "startlinecolor": "#A2B1C6"
            },
            "type": "carpet"
           }
          ],
          "choropleth": [
           {
            "colorbar": {
             "outlinewidth": 0,
             "ticks": ""
            },
            "type": "choropleth"
           }
          ],
          "contour": [
           {
            "colorbar": {
             "outlinewidth": 0,
             "ticks": ""
            },
            "colorscale": [
             [
              0,
              "#0d0887"
             ],
             [
              0.1111111111111111,
              "#46039f"
             ],
             [
              0.2222222222222222,
              "#7201a8"
             ],
             [
              0.3333333333333333,
              "#9c179e"
             ],
             [
              0.4444444444444444,
              "#bd3786"
             ],
             [
              0.5555555555555556,
              "#d8576b"
             ],
             [
              0.6666666666666666,
              "#ed7953"
             ],
             [
              0.7777777777777778,
              "#fb9f3a"
             ],
             [
              0.8888888888888888,
              "#fdca26"
             ],
             [
              1,
              "#f0f921"
             ]
            ],
            "type": "contour"
           }
          ],
          "contourcarpet": [
           {
            "colorbar": {
             "outlinewidth": 0,
             "ticks": ""
            },
            "type": "contourcarpet"
           }
          ],
          "heatmap": [
           {
            "colorbar": {
             "outlinewidth": 0,
             "ticks": ""
            },
            "colorscale": [
             [
              0,
              "#0d0887"
             ],
             [
              0.1111111111111111,
              "#46039f"
             ],
             [
              0.2222222222222222,
              "#7201a8"
             ],
             [
              0.3333333333333333,
              "#9c179e"
             ],
             [
              0.4444444444444444,
              "#bd3786"
             ],
             [
              0.5555555555555556,
              "#d8576b"
             ],
             [
              0.6666666666666666,
              "#ed7953"
             ],
             [
              0.7777777777777778,
              "#fb9f3a"
             ],
             [
              0.8888888888888888,
              "#fdca26"
             ],
             [
              1,
              "#f0f921"
             ]
            ],
            "type": "heatmap"
           }
          ],
          "heatmapgl": [
           {
            "colorbar": {
             "outlinewidth": 0,
             "ticks": ""
            },
            "colorscale": [
             [
              0,
              "#0d0887"
             ],
             [
              0.1111111111111111,
              "#46039f"
             ],
             [
              0.2222222222222222,
              "#7201a8"
             ],
             [
              0.3333333333333333,
              "#9c179e"
             ],
             [
              0.4444444444444444,
              "#bd3786"
             ],
             [
              0.5555555555555556,
              "#d8576b"
             ],
             [
              0.6666666666666666,
              "#ed7953"
             ],
             [
              0.7777777777777778,
              "#fb9f3a"
             ],
             [
              0.8888888888888888,
              "#fdca26"
             ],
             [
              1,
              "#f0f921"
             ]
            ],
            "type": "heatmapgl"
           }
          ],
          "histogram": [
           {
            "marker": {
             "pattern": {
              "fillmode": "overlay",
              "size": 10,
              "solidity": 0.2
             }
            },
            "type": "histogram"
           }
          ],
          "histogram2d": [
           {
            "colorbar": {
             "outlinewidth": 0,
             "ticks": ""
            },
            "colorscale": [
             [
              0,
              "#0d0887"
             ],
             [
              0.1111111111111111,
              "#46039f"
             ],
             [
              0.2222222222222222,
              "#7201a8"
             ],
             [
              0.3333333333333333,
              "#9c179e"
             ],
             [
              0.4444444444444444,
              "#bd3786"
             ],
             [
              0.5555555555555556,
              "#d8576b"
             ],
             [
              0.6666666666666666,
              "#ed7953"
             ],
             [
              0.7777777777777778,
              "#fb9f3a"
             ],
             [
              0.8888888888888888,
              "#fdca26"
             ],
             [
              1,
              "#f0f921"
             ]
            ],
            "type": "histogram2d"
           }
          ],
          "histogram2dcontour": [
           {
            "colorbar": {
             "outlinewidth": 0,
             "ticks": ""
            },
            "colorscale": [
             [
              0,
              "#0d0887"
             ],
             [
              0.1111111111111111,
              "#46039f"
             ],
             [
              0.2222222222222222,
              "#7201a8"
             ],
             [
              0.3333333333333333,
              "#9c179e"
             ],
             [
              0.4444444444444444,
              "#bd3786"
             ],
             [
              0.5555555555555556,
              "#d8576b"
             ],
             [
              0.6666666666666666,
              "#ed7953"
             ],
             [
              0.7777777777777778,
              "#fb9f3a"
             ],
             [
              0.8888888888888888,
              "#fdca26"
             ],
             [
              1,
              "#f0f921"
             ]
            ],
            "type": "histogram2dcontour"
           }
          ],
          "mesh3d": [
           {
            "colorbar": {
             "outlinewidth": 0,
             "ticks": ""
            },
            "type": "mesh3d"
           }
          ],
          "parcoords": [
           {
            "line": {
             "colorbar": {
              "outlinewidth": 0,
              "ticks": ""
             }
            },
            "type": "parcoords"
           }
          ],
          "pie": [
           {
            "automargin": true,
            "type": "pie"
           }
          ],
          "scatter": [
           {
            "marker": {
             "line": {
              "color": "#283442"
             }
            },
            "type": "scatter"
           }
          ],
          "scatter3d": [
           {
            "line": {
             "colorbar": {
              "outlinewidth": 0,
              "ticks": ""
             }
            },
            "marker": {
             "colorbar": {
              "outlinewidth": 0,
              "ticks": ""
             }
            },
            "type": "scatter3d"
           }
          ],
          "scattercarpet": [
           {
            "marker": {
             "colorbar": {
              "outlinewidth": 0,
              "ticks": ""
             }
            },
            "type": "scattercarpet"
           }
          ],
          "scattergeo": [
           {
            "marker": {
             "colorbar": {
              "outlinewidth": 0,
              "ticks": ""
             }
            },
            "type": "scattergeo"
           }
          ],
          "scattergl": [
           {
            "marker": {
             "line": {
              "color": "#283442"
             }
            },
            "type": "scattergl"
           }
          ],
          "scattermapbox": [
           {
            "marker": {
             "colorbar": {
              "outlinewidth": 0,
              "ticks": ""
             }
            },
            "type": "scattermapbox"
           }
          ],
          "scatterpolar": [
           {
            "marker": {
             "colorbar": {
              "outlinewidth": 0,
              "ticks": ""
             }
            },
            "type": "scatterpolar"
           }
          ],
          "scatterpolargl": [
           {
            "marker": {
             "colorbar": {
              "outlinewidth": 0,
              "ticks": ""
             }
            },
            "type": "scatterpolargl"
           }
          ],
          "scatterternary": [
           {
            "marker": {
             "colorbar": {
              "outlinewidth": 0,
              "ticks": ""
             }
            },
            "type": "scatterternary"
           }
          ],
          "surface": [
           {
            "colorbar": {
             "outlinewidth": 0,
             "ticks": ""
            },
            "colorscale": [
             [
              0,
              "#0d0887"
             ],
             [
              0.1111111111111111,
              "#46039f"
             ],
             [
              0.2222222222222222,
              "#7201a8"
             ],
             [
              0.3333333333333333,
              "#9c179e"
             ],
             [
              0.4444444444444444,
              "#bd3786"
             ],
             [
              0.5555555555555556,
              "#d8576b"
             ],
             [
              0.6666666666666666,
              "#ed7953"
             ],
             [
              0.7777777777777778,
              "#fb9f3a"
             ],
             [
              0.8888888888888888,
              "#fdca26"
             ],
             [
              1,
              "#f0f921"
             ]
            ],
            "type": "surface"
           }
          ],
          "table": [
           {
            "cells": {
             "fill": {
              "color": "#506784"
             },
             "line": {
              "color": "rgb(17,17,17)"
             }
            },
            "header": {
             "fill": {
              "color": "#2a3f5f"
             },
             "line": {
              "color": "rgb(17,17,17)"
             }
            },
            "type": "table"
           }
          ]
         },
         "layout": {
          "annotationdefaults": {
           "arrowcolor": "#f2f5fa",
           "arrowhead": 0,
           "arrowwidth": 1
          },
          "autotypenumbers": "strict",
          "coloraxis": {
           "colorbar": {
            "outlinewidth": 0,
            "ticks": ""
           }
          },
          "colorscale": {
           "diverging": [
            [
             0,
             "#8e0152"
            ],
            [
             0.1,
             "#c51b7d"
            ],
            [
             0.2,
             "#de77ae"
            ],
            [
             0.3,
             "#f1b6da"
            ],
            [
             0.4,
             "#fde0ef"
            ],
            [
             0.5,
             "#f7f7f7"
            ],
            [
             0.6,
             "#e6f5d0"
            ],
            [
             0.7,
             "#b8e186"
            ],
            [
             0.8,
             "#7fbc41"
            ],
            [
             0.9,
             "#4d9221"
            ],
            [
             1,
             "#276419"
            ]
           ],
           "sequential": [
            [
             0,
             "#0d0887"
            ],
            [
             0.1111111111111111,
             "#46039f"
            ],
            [
             0.2222222222222222,
             "#7201a8"
            ],
            [
             0.3333333333333333,
             "#9c179e"
            ],
            [
             0.4444444444444444,
             "#bd3786"
            ],
            [
             0.5555555555555556,
             "#d8576b"
            ],
            [
             0.6666666666666666,
             "#ed7953"
            ],
            [
             0.7777777777777778,
             "#fb9f3a"
            ],
            [
             0.8888888888888888,
             "#fdca26"
            ],
            [
             1,
             "#f0f921"
            ]
           ],
           "sequentialminus": [
            [
             0,
             "#0d0887"
            ],
            [
             0.1111111111111111,
             "#46039f"
            ],
            [
             0.2222222222222222,
             "#7201a8"
            ],
            [
             0.3333333333333333,
             "#9c179e"
            ],
            [
             0.4444444444444444,
             "#bd3786"
            ],
            [
             0.5555555555555556,
             "#d8576b"
            ],
            [
             0.6666666666666666,
             "#ed7953"
            ],
            [
             0.7777777777777778,
             "#fb9f3a"
            ],
            [
             0.8888888888888888,
             "#fdca26"
            ],
            [
             1,
             "#f0f921"
            ]
           ]
          },
          "colorway": [
           "#636efa",
           "#EF553B",
           "#00cc96",
           "#ab63fa",
           "#FFA15A",
           "#19d3f3",
           "#FF6692",
           "#B6E880",
           "#FF97FF",
           "#FECB52"
          ],
          "font": {
           "color": "#f2f5fa"
          },
          "geo": {
           "bgcolor": "rgb(17,17,17)",
           "lakecolor": "rgb(17,17,17)",
           "landcolor": "rgb(17,17,17)",
           "showlakes": true,
           "showland": true,
           "subunitcolor": "#506784"
          },
          "hoverlabel": {
           "align": "left"
          },
          "hovermode": "closest",
          "mapbox": {
           "style": "dark"
          },
          "paper_bgcolor": "rgb(17,17,17)",
          "plot_bgcolor": "rgb(17,17,17)",
          "polar": {
           "angularaxis": {
            "gridcolor": "#506784",
            "linecolor": "#506784",
            "ticks": ""
           },
           "bgcolor": "rgb(17,17,17)",
           "radialaxis": {
            "gridcolor": "#506784",
            "linecolor": "#506784",
            "ticks": ""
           }
          },
          "scene": {
           "xaxis": {
            "backgroundcolor": "rgb(17,17,17)",
            "gridcolor": "#506784",
            "gridwidth": 2,
            "linecolor": "#506784",
            "showbackground": true,
            "ticks": "",
            "zerolinecolor": "#C8D4E3"
           },
           "yaxis": {
            "backgroundcolor": "rgb(17,17,17)",
            "gridcolor": "#506784",
            "gridwidth": 2,
            "linecolor": "#506784",
            "showbackground": true,
            "ticks": "",
            "zerolinecolor": "#C8D4E3"
           },
           "zaxis": {
            "backgroundcolor": "rgb(17,17,17)",
            "gridcolor": "#506784",
            "gridwidth": 2,
            "linecolor": "#506784",
            "showbackground": true,
            "ticks": "",
            "zerolinecolor": "#C8D4E3"
           }
          },
          "shapedefaults": {
           "line": {
            "color": "#f2f5fa"
           }
          },
          "sliderdefaults": {
           "bgcolor": "#C8D4E3",
           "bordercolor": "rgb(17,17,17)",
           "borderwidth": 1,
           "tickwidth": 0
          },
          "ternary": {
           "aaxis": {
            "gridcolor": "#506784",
            "linecolor": "#506784",
            "ticks": ""
           },
           "baxis": {
            "gridcolor": "#506784",
            "linecolor": "#506784",
            "ticks": ""
           },
           "bgcolor": "rgb(17,17,17)",
           "caxis": {
            "gridcolor": "#506784",
            "linecolor": "#506784",
            "ticks": ""
           }
          },
          "title": {
           "x": 0.05
          },
          "updatemenudefaults": {
           "bgcolor": "#506784",
           "borderwidth": 0
          },
          "xaxis": {
           "automargin": true,
           "gridcolor": "#283442",
           "linecolor": "#506784",
           "ticks": "",
           "title": {
            "standoff": 15
           },
           "zerolinecolor": "#283442",
           "zerolinewidth": 2
          },
          "yaxis": {
           "automargin": true,
           "gridcolor": "#283442",
           "linecolor": "#506784",
           "ticks": "",
           "title": {
            "standoff": 15
           },
           "zerolinecolor": "#283442",
           "zerolinewidth": 2
          }
         }
        },
        "xaxis": {
         "anchor": "y",
         "domain": [
          0,
          1
         ],
         "title": {
          "text": "count"
         }
        },
        "yaxis": {
         "anchor": "x",
         "categoryarray": [
          "ند",
          "ب+",
          "أ",
          "أ+"
         ],
         "categoryorder": "array",
         "domain": [
          0,
          1
         ],
         "title": {
          "text": "التقدير"
         }
        }
       }
      }
     },
     "metadata": {},
     "output_type": "display_data"
    }
   ],
   "source": [
    "px.bar(grades, y=\"التقدير\", color=\"صنف المقرر\", text=\"اسم المقرر\", category_orders=ordering)"
   ]
  },
  {
   "cell_type": "code",
   "execution_count": 274,
   "metadata": {},
   "outputs": [
    {
     "data": {
      "application/vnd.plotly.v1+json": {
       "config": {
        "plotlyServerURL": "https://plot.ly"
       },
       "data": [
        {
         "alignmentgroup": "True",
         "hovertemplate": "صنف المقرر=إنسانيات<br>الترم=%{x}<br>الدرجات=%{y}<br>اسم المقرر=%{text}<extra></extra>",
         "legendgroup": "إنسانيات",
         "marker": {
          "color": "#636efa",
          "pattern": {
           "shape": ""
          }
         },
         "name": "إنسانيات",
         "offsetgroup": "إنسانيات",
         "orientation": "v",
         "showlegend": true,
         "text": [
          "ريادة الأعمال",
          "اللغة الإنجليزية",
          "مهارات الكتابة.",
          "مهارات جامعية",
          "لغة إنجليزية تخصصية",
          "اللياقة والثقافة الصحية"
         ],
         "textposition": "auto",
         "type": "bar",
         "x": [
          1,
          1,
          1,
          2,
          2,
          2
         ],
         "xaxis": "x",
         "y": [
          95,
          100,
          90,
          100,
          100,
          95
         ],
         "yaxis": "y"
        },
        {
         "alignmentgroup": "True",
         "hovertemplate": "صنف المقرر=رياضيات<br>الترم=%{x}<br>الدرجات=%{y}<br>اسم المقرر=%{text}<extra></extra>",
         "legendgroup": "رياضيات",
         "marker": {
          "color": "#EF553B",
          "pattern": {
           "shape": ""
          }
         },
         "name": "رياضيات",
         "offsetgroup": "رياضيات",
         "orientation": "v",
         "showlegend": true,
         "text": [
          "مدخل الى الاحتمالات والإحصاء",
          "حساب التفاضل",
          "الرياضيات المحددة",
          "حساب التكامل",
          "الجبر الخطي"
         ],
         "textposition": "auto",
         "type": "bar",
         "x": [
          1,
          2,
          3,
          3,
          4
         ],
         "xaxis": "x",
         "y": [
          95,
          100,
          100,
          100,
          90
         ],
         "yaxis": "y"
        },
        {
         "alignmentgroup": "True",
         "hovertemplate": "صنف المقرر=علوم<br>الترم=%{x}<br>الدرجات=%{y}<br>اسم المقرر=%{text}<extra></extra>",
         "legendgroup": "علوم",
         "marker": {
          "color": "#00cc96",
          "pattern": {
           "shape": ""
          }
         },
         "name": "علوم",
         "offsetgroup": "علوم",
         "orientation": "v",
         "showlegend": true,
         "text": [
          "كيمياء عامة (1)",
          "مهارات الحاسب",
          "فيزياء عامة (1)",
          "فيزياء عامه (2)"
         ],
         "textposition": "auto",
         "type": "bar",
         "x": [
          1,
          2,
          3,
          4
         ],
         "xaxis": "x",
         "y": [
          90,
          100,
          100,
          90
         ],
         "yaxis": "y"
        },
        {
         "alignmentgroup": "True",
         "hovertemplate": "صنف المقرر=علوم حاسب<br>الترم=%{x}<br>الدرجات=%{y}<br>اسم المقرر=%{text}<extra></extra>",
         "legendgroup": "علوم حاسب",
         "marker": {
          "color": "#ab63fa",
          "pattern": {
           "shape": ""
          }
         },
         "name": "علوم حاسب",
         "offsetgroup": "علوم حاسب",
         "orientation": "v",
         "showlegend": true,
         "text": [
          "برمجة حاسبات (1)",
          "تنظيم الحاسبات",
          "برمجة حاسبات -2-",
          "تراكيب البيانات",
          "اخلاقيات الحوسبة وطرق البحث",
          "البرمجة الإجرائية بلغة \"C\"",
          "الرياضيات المتقطعة لعلوم الحاسب",
          "اسس نظم قواعد البيانات",
          "الذكاء الاصطناعي",
          "تصميم وتحليل الخوارزميات",
          "تحليل وتصميم الأنظمة",
          "نظرية الحوسبة",
          "نظم التشغيل",
          "ادارة مشاريع البرمجيات وتقينة المعلومات",
          "لغات البرمجة والترجمة",
          "المعالجة المتوازيه",
          "تعليم الآلة",
          "مشروع تخرج -1-",
          "شبكات الحاسبات"
         ],
         "textposition": "auto",
         "type": "bar",
         "x": [
          3,
          4,
          4,
          5,
          5,
          5,
          5,
          5,
          6,
          6,
          6,
          6,
          6,
          7,
          7,
          7,
          7,
          7,
          7
         ],
         "xaxis": "x",
         "y": [
          100,
          95,
          100,
          95,
          100,
          100,
          100,
          90,
          100,
          100,
          90,
          100,
          100,
          95,
          95,
          90,
          100,
          100,
          100
         ],
         "yaxis": "y"
        },
        {
         "alignmentgroup": "True",
         "hovertemplate": "صنف المقرر=سلم<br>الترم=%{x}<br>الدرجات=%{y}<br>اسم المقرر=%{text}<extra></extra>",
         "legendgroup": "سلم",
         "marker": {
          "color": "#FFA15A",
          "pattern": {
           "shape": ""
          }
         },
         "name": "سلم",
         "offsetgroup": "سلم",
         "orientation": "v",
         "showlegend": true,
         "text": [
          "أصول الثقافة الإسلامية",
          "اخلاقيات المهنة",
          "قضايا معاصرة",
          "الأسرة في الإسلام"
         ],
         "textposition": "auto",
         "type": "bar",
         "x": [
          3,
          4,
          5,
          6
         ],
         "xaxis": "x",
         "y": [
          95,
          100,
          90,
          100
         ],
         "yaxis": "y"
        }
       ],
       "layout": {
        "barmode": "relative",
        "legend": {
         "title": {
          "text": "صنف المقرر"
         },
         "tracegroupgap": 0
        },
        "margin": {
         "t": 60
        },
        "template": {
         "data": {
          "bar": [
           {
            "error_x": {
             "color": "#f2f5fa"
            },
            "error_y": {
             "color": "#f2f5fa"
            },
            "marker": {
             "line": {
              "color": "rgb(17,17,17)",
              "width": 0.5
             },
             "pattern": {
              "fillmode": "overlay",
              "size": 10,
              "solidity": 0.2
             }
            },
            "type": "bar"
           }
          ],
          "barpolar": [
           {
            "marker": {
             "line": {
              "color": "rgb(17,17,17)",
              "width": 0.5
             },
             "pattern": {
              "fillmode": "overlay",
              "size": 10,
              "solidity": 0.2
             }
            },
            "type": "barpolar"
           }
          ],
          "carpet": [
           {
            "aaxis": {
             "endlinecolor": "#A2B1C6",
             "gridcolor": "#506784",
             "linecolor": "#506784",
             "minorgridcolor": "#506784",
             "startlinecolor": "#A2B1C6"
            },
            "baxis": {
             "endlinecolor": "#A2B1C6",
             "gridcolor": "#506784",
             "linecolor": "#506784",
             "minorgridcolor": "#506784",
             "startlinecolor": "#A2B1C6"
            },
            "type": "carpet"
           }
          ],
          "choropleth": [
           {
            "colorbar": {
             "outlinewidth": 0,
             "ticks": ""
            },
            "type": "choropleth"
           }
          ],
          "contour": [
           {
            "colorbar": {
             "outlinewidth": 0,
             "ticks": ""
            },
            "colorscale": [
             [
              0,
              "#0d0887"
             ],
             [
              0.1111111111111111,
              "#46039f"
             ],
             [
              0.2222222222222222,
              "#7201a8"
             ],
             [
              0.3333333333333333,
              "#9c179e"
             ],
             [
              0.4444444444444444,
              "#bd3786"
             ],
             [
              0.5555555555555556,
              "#d8576b"
             ],
             [
              0.6666666666666666,
              "#ed7953"
             ],
             [
              0.7777777777777778,
              "#fb9f3a"
             ],
             [
              0.8888888888888888,
              "#fdca26"
             ],
             [
              1,
              "#f0f921"
             ]
            ],
            "type": "contour"
           }
          ],
          "contourcarpet": [
           {
            "colorbar": {
             "outlinewidth": 0,
             "ticks": ""
            },
            "type": "contourcarpet"
           }
          ],
          "heatmap": [
           {
            "colorbar": {
             "outlinewidth": 0,
             "ticks": ""
            },
            "colorscale": [
             [
              0,
              "#0d0887"
             ],
             [
              0.1111111111111111,
              "#46039f"
             ],
             [
              0.2222222222222222,
              "#7201a8"
             ],
             [
              0.3333333333333333,
              "#9c179e"
             ],
             [
              0.4444444444444444,
              "#bd3786"
             ],
             [
              0.5555555555555556,
              "#d8576b"
             ],
             [
              0.6666666666666666,
              "#ed7953"
             ],
             [
              0.7777777777777778,
              "#fb9f3a"
             ],
             [
              0.8888888888888888,
              "#fdca26"
             ],
             [
              1,
              "#f0f921"
             ]
            ],
            "type": "heatmap"
           }
          ],
          "heatmapgl": [
           {
            "colorbar": {
             "outlinewidth": 0,
             "ticks": ""
            },
            "colorscale": [
             [
              0,
              "#0d0887"
             ],
             [
              0.1111111111111111,
              "#46039f"
             ],
             [
              0.2222222222222222,
              "#7201a8"
             ],
             [
              0.3333333333333333,
              "#9c179e"
             ],
             [
              0.4444444444444444,
              "#bd3786"
             ],
             [
              0.5555555555555556,
              "#d8576b"
             ],
             [
              0.6666666666666666,
              "#ed7953"
             ],
             [
              0.7777777777777778,
              "#fb9f3a"
             ],
             [
              0.8888888888888888,
              "#fdca26"
             ],
             [
              1,
              "#f0f921"
             ]
            ],
            "type": "heatmapgl"
           }
          ],
          "histogram": [
           {
            "marker": {
             "pattern": {
              "fillmode": "overlay",
              "size": 10,
              "solidity": 0.2
             }
            },
            "type": "histogram"
           }
          ],
          "histogram2d": [
           {
            "colorbar": {
             "outlinewidth": 0,
             "ticks": ""
            },
            "colorscale": [
             [
              0,
              "#0d0887"
             ],
             [
              0.1111111111111111,
              "#46039f"
             ],
             [
              0.2222222222222222,
              "#7201a8"
             ],
             [
              0.3333333333333333,
              "#9c179e"
             ],
             [
              0.4444444444444444,
              "#bd3786"
             ],
             [
              0.5555555555555556,
              "#d8576b"
             ],
             [
              0.6666666666666666,
              "#ed7953"
             ],
             [
              0.7777777777777778,
              "#fb9f3a"
             ],
             [
              0.8888888888888888,
              "#fdca26"
             ],
             [
              1,
              "#f0f921"
             ]
            ],
            "type": "histogram2d"
           }
          ],
          "histogram2dcontour": [
           {
            "colorbar": {
             "outlinewidth": 0,
             "ticks": ""
            },
            "colorscale": [
             [
              0,
              "#0d0887"
             ],
             [
              0.1111111111111111,
              "#46039f"
             ],
             [
              0.2222222222222222,
              "#7201a8"
             ],
             [
              0.3333333333333333,
              "#9c179e"
             ],
             [
              0.4444444444444444,
              "#bd3786"
             ],
             [
              0.5555555555555556,
              "#d8576b"
             ],
             [
              0.6666666666666666,
              "#ed7953"
             ],
             [
              0.7777777777777778,
              "#fb9f3a"
             ],
             [
              0.8888888888888888,
              "#fdca26"
             ],
             [
              1,
              "#f0f921"
             ]
            ],
            "type": "histogram2dcontour"
           }
          ],
          "mesh3d": [
           {
            "colorbar": {
             "outlinewidth": 0,
             "ticks": ""
            },
            "type": "mesh3d"
           }
          ],
          "parcoords": [
           {
            "line": {
             "colorbar": {
              "outlinewidth": 0,
              "ticks": ""
             }
            },
            "type": "parcoords"
           }
          ],
          "pie": [
           {
            "automargin": true,
            "type": "pie"
           }
          ],
          "scatter": [
           {
            "marker": {
             "line": {
              "color": "#283442"
             }
            },
            "type": "scatter"
           }
          ],
          "scatter3d": [
           {
            "line": {
             "colorbar": {
              "outlinewidth": 0,
              "ticks": ""
             }
            },
            "marker": {
             "colorbar": {
              "outlinewidth": 0,
              "ticks": ""
             }
            },
            "type": "scatter3d"
           }
          ],
          "scattercarpet": [
           {
            "marker": {
             "colorbar": {
              "outlinewidth": 0,
              "ticks": ""
             }
            },
            "type": "scattercarpet"
           }
          ],
          "scattergeo": [
           {
            "marker": {
             "colorbar": {
              "outlinewidth": 0,
              "ticks": ""
             }
            },
            "type": "scattergeo"
           }
          ],
          "scattergl": [
           {
            "marker": {
             "line": {
              "color": "#283442"
             }
            },
            "type": "scattergl"
           }
          ],
          "scattermapbox": [
           {
            "marker": {
             "colorbar": {
              "outlinewidth": 0,
              "ticks": ""
             }
            },
            "type": "scattermapbox"
           }
          ],
          "scatterpolar": [
           {
            "marker": {
             "colorbar": {
              "outlinewidth": 0,
              "ticks": ""
             }
            },
            "type": "scatterpolar"
           }
          ],
          "scatterpolargl": [
           {
            "marker": {
             "colorbar": {
              "outlinewidth": 0,
              "ticks": ""
             }
            },
            "type": "scatterpolargl"
           }
          ],
          "scatterternary": [
           {
            "marker": {
             "colorbar": {
              "outlinewidth": 0,
              "ticks": ""
             }
            },
            "type": "scatterternary"
           }
          ],
          "surface": [
           {
            "colorbar": {
             "outlinewidth": 0,
             "ticks": ""
            },
            "colorscale": [
             [
              0,
              "#0d0887"
             ],
             [
              0.1111111111111111,
              "#46039f"
             ],
             [
              0.2222222222222222,
              "#7201a8"
             ],
             [
              0.3333333333333333,
              "#9c179e"
             ],
             [
              0.4444444444444444,
              "#bd3786"
             ],
             [
              0.5555555555555556,
              "#d8576b"
             ],
             [
              0.6666666666666666,
              "#ed7953"
             ],
             [
              0.7777777777777778,
              "#fb9f3a"
             ],
             [
              0.8888888888888888,
              "#fdca26"
             ],
             [
              1,
              "#f0f921"
             ]
            ],
            "type": "surface"
           }
          ],
          "table": [
           {
            "cells": {
             "fill": {
              "color": "#506784"
             },
             "line": {
              "color": "rgb(17,17,17)"
             }
            },
            "header": {
             "fill": {
              "color": "#2a3f5f"
             },
             "line": {
              "color": "rgb(17,17,17)"
             }
            },
            "type": "table"
           }
          ]
         },
         "layout": {
          "annotationdefaults": {
           "arrowcolor": "#f2f5fa",
           "arrowhead": 0,
           "arrowwidth": 1
          },
          "autotypenumbers": "strict",
          "coloraxis": {
           "colorbar": {
            "outlinewidth": 0,
            "ticks": ""
           }
          },
          "colorscale": {
           "diverging": [
            [
             0,
             "#8e0152"
            ],
            [
             0.1,
             "#c51b7d"
            ],
            [
             0.2,
             "#de77ae"
            ],
            [
             0.3,
             "#f1b6da"
            ],
            [
             0.4,
             "#fde0ef"
            ],
            [
             0.5,
             "#f7f7f7"
            ],
            [
             0.6,
             "#e6f5d0"
            ],
            [
             0.7,
             "#b8e186"
            ],
            [
             0.8,
             "#7fbc41"
            ],
            [
             0.9,
             "#4d9221"
            ],
            [
             1,
             "#276419"
            ]
           ],
           "sequential": [
            [
             0,
             "#0d0887"
            ],
            [
             0.1111111111111111,
             "#46039f"
            ],
            [
             0.2222222222222222,
             "#7201a8"
            ],
            [
             0.3333333333333333,
             "#9c179e"
            ],
            [
             0.4444444444444444,
             "#bd3786"
            ],
            [
             0.5555555555555556,
             "#d8576b"
            ],
            [
             0.6666666666666666,
             "#ed7953"
            ],
            [
             0.7777777777777778,
             "#fb9f3a"
            ],
            [
             0.8888888888888888,
             "#fdca26"
            ],
            [
             1,
             "#f0f921"
            ]
           ],
           "sequentialminus": [
            [
             0,
             "#0d0887"
            ],
            [
             0.1111111111111111,
             "#46039f"
            ],
            [
             0.2222222222222222,
             "#7201a8"
            ],
            [
             0.3333333333333333,
             "#9c179e"
            ],
            [
             0.4444444444444444,
             "#bd3786"
            ],
            [
             0.5555555555555556,
             "#d8576b"
            ],
            [
             0.6666666666666666,
             "#ed7953"
            ],
            [
             0.7777777777777778,
             "#fb9f3a"
            ],
            [
             0.8888888888888888,
             "#fdca26"
            ],
            [
             1,
             "#f0f921"
            ]
           ]
          },
          "colorway": [
           "#636efa",
           "#EF553B",
           "#00cc96",
           "#ab63fa",
           "#FFA15A",
           "#19d3f3",
           "#FF6692",
           "#B6E880",
           "#FF97FF",
           "#FECB52"
          ],
          "font": {
           "color": "#f2f5fa"
          },
          "geo": {
           "bgcolor": "rgb(17,17,17)",
           "lakecolor": "rgb(17,17,17)",
           "landcolor": "rgb(17,17,17)",
           "showlakes": true,
           "showland": true,
           "subunitcolor": "#506784"
          },
          "hoverlabel": {
           "align": "left"
          },
          "hovermode": "closest",
          "mapbox": {
           "style": "dark"
          },
          "paper_bgcolor": "rgb(17,17,17)",
          "plot_bgcolor": "rgb(17,17,17)",
          "polar": {
           "angularaxis": {
            "gridcolor": "#506784",
            "linecolor": "#506784",
            "ticks": ""
           },
           "bgcolor": "rgb(17,17,17)",
           "radialaxis": {
            "gridcolor": "#506784",
            "linecolor": "#506784",
            "ticks": ""
           }
          },
          "scene": {
           "xaxis": {
            "backgroundcolor": "rgb(17,17,17)",
            "gridcolor": "#506784",
            "gridwidth": 2,
            "linecolor": "#506784",
            "showbackground": true,
            "ticks": "",
            "zerolinecolor": "#C8D4E3"
           },
           "yaxis": {
            "backgroundcolor": "rgb(17,17,17)",
            "gridcolor": "#506784",
            "gridwidth": 2,
            "linecolor": "#506784",
            "showbackground": true,
            "ticks": "",
            "zerolinecolor": "#C8D4E3"
           },
           "zaxis": {
            "backgroundcolor": "rgb(17,17,17)",
            "gridcolor": "#506784",
            "gridwidth": 2,
            "linecolor": "#506784",
            "showbackground": true,
            "ticks": "",
            "zerolinecolor": "#C8D4E3"
           }
          },
          "shapedefaults": {
           "line": {
            "color": "#f2f5fa"
           }
          },
          "sliderdefaults": {
           "bgcolor": "#C8D4E3",
           "bordercolor": "rgb(17,17,17)",
           "borderwidth": 1,
           "tickwidth": 0
          },
          "ternary": {
           "aaxis": {
            "gridcolor": "#506784",
            "linecolor": "#506784",
            "ticks": ""
           },
           "baxis": {
            "gridcolor": "#506784",
            "linecolor": "#506784",
            "ticks": ""
           },
           "bgcolor": "rgb(17,17,17)",
           "caxis": {
            "gridcolor": "#506784",
            "linecolor": "#506784",
            "ticks": ""
           }
          },
          "title": {
           "x": 0.05
          },
          "updatemenudefaults": {
           "bgcolor": "#506784",
           "borderwidth": 0
          },
          "xaxis": {
           "automargin": true,
           "gridcolor": "#283442",
           "linecolor": "#506784",
           "ticks": "",
           "title": {
            "standoff": 15
           },
           "zerolinecolor": "#283442",
           "zerolinewidth": 2
          },
          "yaxis": {
           "automargin": true,
           "gridcolor": "#283442",
           "linecolor": "#506784",
           "ticks": "",
           "title": {
            "standoff": 15
           },
           "zerolinecolor": "#283442",
           "zerolinewidth": 2
          }
         }
        },
        "xaxis": {
         "anchor": "y",
         "domain": [
          0,
          1
         ],
         "title": {
          "text": "الترم"
         }
        },
        "yaxis": {
         "anchor": "x",
         "domain": [
          0,
          1
         ],
         "title": {
          "text": "الدرجات"
         }
        }
       }
      }
     },
     "metadata": {},
     "output_type": "display_data"
    }
   ],
   "source": [
    "px.bar(grades, x=\"الترم\", y=\"الدرجات\", color=\"صنف المقرر\", text=\"اسم المقرر\", category_orders=ordering)"
   ]
  },
  {
   "cell_type": "code",
   "execution_count": 275,
   "metadata": {},
   "outputs": [
    {
     "data": {
      "application/vnd.plotly.v1+json": {
       "config": {
        "plotlyServerURL": "https://plot.ly"
       },
       "data": [
        {
         "alignmentgroup": "True",
         "hovertemplate": "التقدير=أ+<br>صنف المقرر=%{x}<br>الدرجات=%{y}<br>اسم المقرر=%{text}<extra></extra>",
         "legendgroup": "أ+",
         "marker": {
          "color": "#636efa",
          "pattern": {
           "shape": ""
          }
         },
         "name": "أ+",
         "offsetgroup": "أ+",
         "orientation": "v",
         "showlegend": true,
         "text": [
          "اللغة الإنجليزية",
          "مهارات الحاسب",
          "مهارات جامعية",
          "حساب التفاضل",
          "لغة إنجليزية تخصصية",
          "فيزياء عامة (1)",
          "برمجة حاسبات (1)",
          "الرياضيات المحددة",
          "حساب التكامل",
          "اخلاقيات المهنة",
          "برمجة حاسبات -2-",
          "اخلاقيات الحوسبة وطرق البحث",
          "البرمجة الإجرائية بلغة \"C\"",
          "الرياضيات المتقطعة لعلوم الحاسب",
          "الأسرة في الإسلام",
          "الذكاء الاصطناعي",
          "تصميم وتحليل الخوارزميات",
          "نظرية الحوسبة",
          "نظم التشغيل",
          "تعليم الآلة",
          "مشروع تخرج -1-",
          "شبكات الحاسبات"
         ],
         "textposition": "auto",
         "type": "bar",
         "x": [
          "إنسانيات",
          "علوم",
          "إنسانيات",
          "رياضيات",
          "إنسانيات",
          "علوم",
          "علوم حاسب",
          "رياضيات",
          "رياضيات",
          "سلم",
          "علوم حاسب",
          "علوم حاسب",
          "علوم حاسب",
          "علوم حاسب",
          "سلم",
          "علوم حاسب",
          "علوم حاسب",
          "علوم حاسب",
          "علوم حاسب",
          "علوم حاسب",
          "علوم حاسب",
          "علوم حاسب"
         ],
         "xaxis": "x",
         "y": [
          100,
          100,
          100,
          100,
          100,
          100,
          100,
          100,
          100,
          100,
          100,
          100,
          100,
          100,
          100,
          100,
          100,
          100,
          100,
          100,
          100,
          100
         ],
         "yaxis": "y"
        },
        {
         "alignmentgroup": "True",
         "hovertemplate": "التقدير=أ<br>صنف المقرر=%{x}<br>الدرجات=%{y}<br>اسم المقرر=%{text}<extra></extra>",
         "legendgroup": "أ",
         "marker": {
          "color": "#EF553B",
          "pattern": {
           "shape": ""
          }
         },
         "name": "أ",
         "offsetgroup": "أ",
         "orientation": "v",
         "showlegend": true,
         "text": [
          "ريادة الأعمال",
          "مدخل الى الاحتمالات والإحصاء",
          "اللياقة والثقافة الصحية",
          "أصول الثقافة الإسلامية",
          "تراكيب البيانات",
          "ادارة مشاريع البرمجيات وتقينة المعلومات",
          "لغات البرمجة والترجمة"
         ],
         "textposition": "auto",
         "type": "bar",
         "x": [
          "إنسانيات",
          "رياضيات",
          "إنسانيات",
          "سلم",
          "علوم حاسب",
          "علوم حاسب",
          "علوم حاسب"
         ],
         "xaxis": "x",
         "y": [
          95,
          95,
          95,
          95,
          95,
          95,
          95
         ],
         "yaxis": "y"
        },
        {
         "alignmentgroup": "True",
         "hovertemplate": "التقدير=ب+<br>صنف المقرر=%{x}<br>الدرجات=%{y}<br>اسم المقرر=%{text}<extra></extra>",
         "legendgroup": "ب+",
         "marker": {
          "color": "#00cc96",
          "pattern": {
           "shape": ""
          }
         },
         "name": "ب+",
         "offsetgroup": "ب+",
         "orientation": "v",
         "showlegend": true,
         "text": [
          "كيمياء عامة (1)",
          "مهارات الكتابة.",
          "قضايا معاصرة",
          "اسس نظم قواعد البيانات",
          "تحليل وتصميم الأنظمة",
          "المعالجة المتوازيه"
         ],
         "textposition": "auto",
         "type": "bar",
         "x": [
          "علوم",
          "إنسانيات",
          "سلم",
          "علوم حاسب",
          "علوم حاسب",
          "علوم حاسب"
         ],
         "xaxis": "x",
         "y": [
          90,
          90,
          90,
          90,
          90,
          90
         ],
         "yaxis": "y"
        },
        {
         "alignmentgroup": "True",
         "hovertemplate": "التقدير=ند<br>صنف المقرر=%{x}<br>الدرجات=%{y}<br>اسم المقرر=%{text}<extra></extra>",
         "legendgroup": "ند",
         "marker": {
          "color": "#ab63fa",
          "pattern": {
           "shape": ""
          }
         },
         "name": "ند",
         "offsetgroup": "ند",
         "orientation": "v",
         "showlegend": true,
         "text": [
          "فيزياء عامه (2)",
          "الجبر الخطي",
          "تنظيم الحاسبات"
         ],
         "textposition": "auto",
         "type": "bar",
         "x": [
          "علوم",
          "رياضيات",
          "علوم حاسب"
         ],
         "xaxis": "x",
         "y": [
          90,
          90,
          95
         ],
         "yaxis": "y"
        }
       ],
       "layout": {
        "barmode": "group",
        "legend": {
         "title": {
          "text": "التقدير"
         },
         "tracegroupgap": 0
        },
        "margin": {
         "t": 60
        },
        "template": {
         "data": {
          "bar": [
           {
            "error_x": {
             "color": "#f2f5fa"
            },
            "error_y": {
             "color": "#f2f5fa"
            },
            "marker": {
             "line": {
              "color": "rgb(17,17,17)",
              "width": 0.5
             },
             "pattern": {
              "fillmode": "overlay",
              "size": 10,
              "solidity": 0.2
             }
            },
            "type": "bar"
           }
          ],
          "barpolar": [
           {
            "marker": {
             "line": {
              "color": "rgb(17,17,17)",
              "width": 0.5
             },
             "pattern": {
              "fillmode": "overlay",
              "size": 10,
              "solidity": 0.2
             }
            },
            "type": "barpolar"
           }
          ],
          "carpet": [
           {
            "aaxis": {
             "endlinecolor": "#A2B1C6",
             "gridcolor": "#506784",
             "linecolor": "#506784",
             "minorgridcolor": "#506784",
             "startlinecolor": "#A2B1C6"
            },
            "baxis": {
             "endlinecolor": "#A2B1C6",
             "gridcolor": "#506784",
             "linecolor": "#506784",
             "minorgridcolor": "#506784",
             "startlinecolor": "#A2B1C6"
            },
            "type": "carpet"
           }
          ],
          "choropleth": [
           {
            "colorbar": {
             "outlinewidth": 0,
             "ticks": ""
            },
            "type": "choropleth"
           }
          ],
          "contour": [
           {
            "colorbar": {
             "outlinewidth": 0,
             "ticks": ""
            },
            "colorscale": [
             [
              0,
              "#0d0887"
             ],
             [
              0.1111111111111111,
              "#46039f"
             ],
             [
              0.2222222222222222,
              "#7201a8"
             ],
             [
              0.3333333333333333,
              "#9c179e"
             ],
             [
              0.4444444444444444,
              "#bd3786"
             ],
             [
              0.5555555555555556,
              "#d8576b"
             ],
             [
              0.6666666666666666,
              "#ed7953"
             ],
             [
              0.7777777777777778,
              "#fb9f3a"
             ],
             [
              0.8888888888888888,
              "#fdca26"
             ],
             [
              1,
              "#f0f921"
             ]
            ],
            "type": "contour"
           }
          ],
          "contourcarpet": [
           {
            "colorbar": {
             "outlinewidth": 0,
             "ticks": ""
            },
            "type": "contourcarpet"
           }
          ],
          "heatmap": [
           {
            "colorbar": {
             "outlinewidth": 0,
             "ticks": ""
            },
            "colorscale": [
             [
              0,
              "#0d0887"
             ],
             [
              0.1111111111111111,
              "#46039f"
             ],
             [
              0.2222222222222222,
              "#7201a8"
             ],
             [
              0.3333333333333333,
              "#9c179e"
             ],
             [
              0.4444444444444444,
              "#bd3786"
             ],
             [
              0.5555555555555556,
              "#d8576b"
             ],
             [
              0.6666666666666666,
              "#ed7953"
             ],
             [
              0.7777777777777778,
              "#fb9f3a"
             ],
             [
              0.8888888888888888,
              "#fdca26"
             ],
             [
              1,
              "#f0f921"
             ]
            ],
            "type": "heatmap"
           }
          ],
          "heatmapgl": [
           {
            "colorbar": {
             "outlinewidth": 0,
             "ticks": ""
            },
            "colorscale": [
             [
              0,
              "#0d0887"
             ],
             [
              0.1111111111111111,
              "#46039f"
             ],
             [
              0.2222222222222222,
              "#7201a8"
             ],
             [
              0.3333333333333333,
              "#9c179e"
             ],
             [
              0.4444444444444444,
              "#bd3786"
             ],
             [
              0.5555555555555556,
              "#d8576b"
             ],
             [
              0.6666666666666666,
              "#ed7953"
             ],
             [
              0.7777777777777778,
              "#fb9f3a"
             ],
             [
              0.8888888888888888,
              "#fdca26"
             ],
             [
              1,
              "#f0f921"
             ]
            ],
            "type": "heatmapgl"
           }
          ],
          "histogram": [
           {
            "marker": {
             "pattern": {
              "fillmode": "overlay",
              "size": 10,
              "solidity": 0.2
             }
            },
            "type": "histogram"
           }
          ],
          "histogram2d": [
           {
            "colorbar": {
             "outlinewidth": 0,
             "ticks": ""
            },
            "colorscale": [
             [
              0,
              "#0d0887"
             ],
             [
              0.1111111111111111,
              "#46039f"
             ],
             [
              0.2222222222222222,
              "#7201a8"
             ],
             [
              0.3333333333333333,
              "#9c179e"
             ],
             [
              0.4444444444444444,
              "#bd3786"
             ],
             [
              0.5555555555555556,
              "#d8576b"
             ],
             [
              0.6666666666666666,
              "#ed7953"
             ],
             [
              0.7777777777777778,
              "#fb9f3a"
             ],
             [
              0.8888888888888888,
              "#fdca26"
             ],
             [
              1,
              "#f0f921"
             ]
            ],
            "type": "histogram2d"
           }
          ],
          "histogram2dcontour": [
           {
            "colorbar": {
             "outlinewidth": 0,
             "ticks": ""
            },
            "colorscale": [
             [
              0,
              "#0d0887"
             ],
             [
              0.1111111111111111,
              "#46039f"
             ],
             [
              0.2222222222222222,
              "#7201a8"
             ],
             [
              0.3333333333333333,
              "#9c179e"
             ],
             [
              0.4444444444444444,
              "#bd3786"
             ],
             [
              0.5555555555555556,
              "#d8576b"
             ],
             [
              0.6666666666666666,
              "#ed7953"
             ],
             [
              0.7777777777777778,
              "#fb9f3a"
             ],
             [
              0.8888888888888888,
              "#fdca26"
             ],
             [
              1,
              "#f0f921"
             ]
            ],
            "type": "histogram2dcontour"
           }
          ],
          "mesh3d": [
           {
            "colorbar": {
             "outlinewidth": 0,
             "ticks": ""
            },
            "type": "mesh3d"
           }
          ],
          "parcoords": [
           {
            "line": {
             "colorbar": {
              "outlinewidth": 0,
              "ticks": ""
             }
            },
            "type": "parcoords"
           }
          ],
          "pie": [
           {
            "automargin": true,
            "type": "pie"
           }
          ],
          "scatter": [
           {
            "marker": {
             "line": {
              "color": "#283442"
             }
            },
            "type": "scatter"
           }
          ],
          "scatter3d": [
           {
            "line": {
             "colorbar": {
              "outlinewidth": 0,
              "ticks": ""
             }
            },
            "marker": {
             "colorbar": {
              "outlinewidth": 0,
              "ticks": ""
             }
            },
            "type": "scatter3d"
           }
          ],
          "scattercarpet": [
           {
            "marker": {
             "colorbar": {
              "outlinewidth": 0,
              "ticks": ""
             }
            },
            "type": "scattercarpet"
           }
          ],
          "scattergeo": [
           {
            "marker": {
             "colorbar": {
              "outlinewidth": 0,
              "ticks": ""
             }
            },
            "type": "scattergeo"
           }
          ],
          "scattergl": [
           {
            "marker": {
             "line": {
              "color": "#283442"
             }
            },
            "type": "scattergl"
           }
          ],
          "scattermapbox": [
           {
            "marker": {
             "colorbar": {
              "outlinewidth": 0,
              "ticks": ""
             }
            },
            "type": "scattermapbox"
           }
          ],
          "scatterpolar": [
           {
            "marker": {
             "colorbar": {
              "outlinewidth": 0,
              "ticks": ""
             }
            },
            "type": "scatterpolar"
           }
          ],
          "scatterpolargl": [
           {
            "marker": {
             "colorbar": {
              "outlinewidth": 0,
              "ticks": ""
             }
            },
            "type": "scatterpolargl"
           }
          ],
          "scatterternary": [
           {
            "marker": {
             "colorbar": {
              "outlinewidth": 0,
              "ticks": ""
             }
            },
            "type": "scatterternary"
           }
          ],
          "surface": [
           {
            "colorbar": {
             "outlinewidth": 0,
             "ticks": ""
            },
            "colorscale": [
             [
              0,
              "#0d0887"
             ],
             [
              0.1111111111111111,
              "#46039f"
             ],
             [
              0.2222222222222222,
              "#7201a8"
             ],
             [
              0.3333333333333333,
              "#9c179e"
             ],
             [
              0.4444444444444444,
              "#bd3786"
             ],
             [
              0.5555555555555556,
              "#d8576b"
             ],
             [
              0.6666666666666666,
              "#ed7953"
             ],
             [
              0.7777777777777778,
              "#fb9f3a"
             ],
             [
              0.8888888888888888,
              "#fdca26"
             ],
             [
              1,
              "#f0f921"
             ]
            ],
            "type": "surface"
           }
          ],
          "table": [
           {
            "cells": {
             "fill": {
              "color": "#506784"
             },
             "line": {
              "color": "rgb(17,17,17)"
             }
            },
            "header": {
             "fill": {
              "color": "#2a3f5f"
             },
             "line": {
              "color": "rgb(17,17,17)"
             }
            },
            "type": "table"
           }
          ]
         },
         "layout": {
          "annotationdefaults": {
           "arrowcolor": "#f2f5fa",
           "arrowhead": 0,
           "arrowwidth": 1
          },
          "autotypenumbers": "strict",
          "coloraxis": {
           "colorbar": {
            "outlinewidth": 0,
            "ticks": ""
           }
          },
          "colorscale": {
           "diverging": [
            [
             0,
             "#8e0152"
            ],
            [
             0.1,
             "#c51b7d"
            ],
            [
             0.2,
             "#de77ae"
            ],
            [
             0.3,
             "#f1b6da"
            ],
            [
             0.4,
             "#fde0ef"
            ],
            [
             0.5,
             "#f7f7f7"
            ],
            [
             0.6,
             "#e6f5d0"
            ],
            [
             0.7,
             "#b8e186"
            ],
            [
             0.8,
             "#7fbc41"
            ],
            [
             0.9,
             "#4d9221"
            ],
            [
             1,
             "#276419"
            ]
           ],
           "sequential": [
            [
             0,
             "#0d0887"
            ],
            [
             0.1111111111111111,
             "#46039f"
            ],
            [
             0.2222222222222222,
             "#7201a8"
            ],
            [
             0.3333333333333333,
             "#9c179e"
            ],
            [
             0.4444444444444444,
             "#bd3786"
            ],
            [
             0.5555555555555556,
             "#d8576b"
            ],
            [
             0.6666666666666666,
             "#ed7953"
            ],
            [
             0.7777777777777778,
             "#fb9f3a"
            ],
            [
             0.8888888888888888,
             "#fdca26"
            ],
            [
             1,
             "#f0f921"
            ]
           ],
           "sequentialminus": [
            [
             0,
             "#0d0887"
            ],
            [
             0.1111111111111111,
             "#46039f"
            ],
            [
             0.2222222222222222,
             "#7201a8"
            ],
            [
             0.3333333333333333,
             "#9c179e"
            ],
            [
             0.4444444444444444,
             "#bd3786"
            ],
            [
             0.5555555555555556,
             "#d8576b"
            ],
            [
             0.6666666666666666,
             "#ed7953"
            ],
            [
             0.7777777777777778,
             "#fb9f3a"
            ],
            [
             0.8888888888888888,
             "#fdca26"
            ],
            [
             1,
             "#f0f921"
            ]
           ]
          },
          "colorway": [
           "#636efa",
           "#EF553B",
           "#00cc96",
           "#ab63fa",
           "#FFA15A",
           "#19d3f3",
           "#FF6692",
           "#B6E880",
           "#FF97FF",
           "#FECB52"
          ],
          "font": {
           "color": "#f2f5fa"
          },
          "geo": {
           "bgcolor": "rgb(17,17,17)",
           "lakecolor": "rgb(17,17,17)",
           "landcolor": "rgb(17,17,17)",
           "showlakes": true,
           "showland": true,
           "subunitcolor": "#506784"
          },
          "hoverlabel": {
           "align": "left"
          },
          "hovermode": "closest",
          "mapbox": {
           "style": "dark"
          },
          "paper_bgcolor": "rgb(17,17,17)",
          "plot_bgcolor": "rgb(17,17,17)",
          "polar": {
           "angularaxis": {
            "gridcolor": "#506784",
            "linecolor": "#506784",
            "ticks": ""
           },
           "bgcolor": "rgb(17,17,17)",
           "radialaxis": {
            "gridcolor": "#506784",
            "linecolor": "#506784",
            "ticks": ""
           }
          },
          "scene": {
           "xaxis": {
            "backgroundcolor": "rgb(17,17,17)",
            "gridcolor": "#506784",
            "gridwidth": 2,
            "linecolor": "#506784",
            "showbackground": true,
            "ticks": "",
            "zerolinecolor": "#C8D4E3"
           },
           "yaxis": {
            "backgroundcolor": "rgb(17,17,17)",
            "gridcolor": "#506784",
            "gridwidth": 2,
            "linecolor": "#506784",
            "showbackground": true,
            "ticks": "",
            "zerolinecolor": "#C8D4E3"
           },
           "zaxis": {
            "backgroundcolor": "rgb(17,17,17)",
            "gridcolor": "#506784",
            "gridwidth": 2,
            "linecolor": "#506784",
            "showbackground": true,
            "ticks": "",
            "zerolinecolor": "#C8D4E3"
           }
          },
          "shapedefaults": {
           "line": {
            "color": "#f2f5fa"
           }
          },
          "sliderdefaults": {
           "bgcolor": "#C8D4E3",
           "bordercolor": "rgb(17,17,17)",
           "borderwidth": 1,
           "tickwidth": 0
          },
          "ternary": {
           "aaxis": {
            "gridcolor": "#506784",
            "linecolor": "#506784",
            "ticks": ""
           },
           "baxis": {
            "gridcolor": "#506784",
            "linecolor": "#506784",
            "ticks": ""
           },
           "bgcolor": "rgb(17,17,17)",
           "caxis": {
            "gridcolor": "#506784",
            "linecolor": "#506784",
            "ticks": ""
           }
          },
          "title": {
           "x": 0.05
          },
          "updatemenudefaults": {
           "bgcolor": "#506784",
           "borderwidth": 0
          },
          "xaxis": {
           "automargin": true,
           "gridcolor": "#283442",
           "linecolor": "#506784",
           "ticks": "",
           "title": {
            "standoff": 15
           },
           "zerolinecolor": "#283442",
           "zerolinewidth": 2
          },
          "yaxis": {
           "automargin": true,
           "gridcolor": "#283442",
           "linecolor": "#506784",
           "ticks": "",
           "title": {
            "standoff": 15
           },
           "zerolinecolor": "#283442",
           "zerolinewidth": 2
          }
         }
        },
        "xaxis": {
         "anchor": "y",
         "domain": [
          0,
          1
         ],
         "title": {
          "text": "صنف المقرر"
         }
        },
        "yaxis": {
         "anchor": "x",
         "domain": [
          0,
          1
         ],
         "title": {
          "text": "الدرجات"
         }
        }
       }
      }
     },
     "metadata": {},
     "output_type": "display_data"
    }
   ],
   "source": [
    "px.bar(grades, x=\"صنف المقرر\", y=\"الدرجات\", color=\"التقدير\", text=\"اسم المقرر\", barmode=\"group\", category_orders=ordering)"
   ]
  },
  {
   "cell_type": "code",
   "execution_count": null,
   "metadata": {},
   "outputs": [],
   "source": []
  }
 ],
 "metadata": {
  "interpreter": {
   "hash": "be42563fcb72fdab166ee2835c0630a01d1eec21466361e836bf90132bd8f435"
  },
  "kernelspec": {
   "display_name": "Python 3.8.8 ('base')",
   "language": "python",
   "name": "python3"
  },
  "language_info": {
   "codemirror_mode": {
    "name": "ipython",
    "version": 3
   },
   "file_extension": ".py",
   "mimetype": "text/x-python",
   "name": "python",
   "nbconvert_exporter": "python",
   "pygments_lexer": "ipython3",
   "version": "3.8.8"
  },
  "orig_nbformat": 4
 },
 "nbformat": 4,
 "nbformat_minor": 2
}
